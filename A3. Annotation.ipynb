{
 "cells": [
  {
   "cell_type": "markdown",
   "id": "8513baff-cafb-4967-87cf-7f9f03072744",
   "metadata": {},
   "outputs": [],
   "source": [
    "<img src=\"https://10botics.com/logo_jnb.png\" width=\"300\"/>"
   ]
  },
  {
   "cell_type": "markdown",
   "id": "82a51664-5800-48e8-9eb0-347045cc967d",
   "metadata": {},
   "outputs": [],
   "source": [
    "# Annotating image"
   ]
  },
  {
   "cell_type": "markdown",
   "id": "69e3204e-fa00-4de3-bcab-8ea77e7d25d2",
   "metadata": {},
   "outputs": [],
   "source": [
    "## Annotate circles on an image"
   ]
  },
  {
   "cell_type": "code",
   "execution_count": 2,
   "id": "81bda572-0008-4922-816a-b94db93ec741",
   "metadata": {},
   "outputs": [],
   "source": [
    "from matplotlib import pyplot as plt\n",
    "import matplotlib.image as mpimg"
   ]
  },
  {
   "cell_type": "code",
   "execution_count": 40,
   "id": "33cdde96-1d59-4c45-a148-f390c86160ad",
   "metadata": {
    "scrolled": true
   },
   "outputs": [],
   "source": [
    "def load_and_show_image(image_path):\n",
    "    # Load the image\n",
    "    img = mpimg.imread(image_path)\n",
    "    imgplot = plt.imshow(img)\n",
    "    \n",
    "    draw_circle()\n",
    "    plt.show()\n",
    "\n",
    "def draw_circle():\n",
    "    points = [(100, 100), (200, 200), (300, 300)]  # Example points, replace with your own\n",
    "    \n",
    "    x, y = zip(*points)  # Unpack points into separate lists for x and y coordinates\n",
    "    plt.plot(x, y, 'bo')\n",
    "    \n",
    "# Load and show the image\n",
    "image_path = \"resource/input_image2.jpeg\" \n",
    "\n",
    "load_and_show_image(image_path)"
   ]
  },
  {
   "cell_type": "markdown",
   "id": "73e1fba9-5b62-4554-bd25-4aeb82572de2",
   "metadata": {},
   "outputs": [],
   "source": [
    "## Exercise 1 - Change the color of the circle\n",
    "\n",
    "Read the documentation of matplot lib to change the color to RED\n",
    "\n",
    "https://matplotlib.org/stable/api/_as_gen/matplotlib.pyplot.plot.html\n",
    "\n",
    "<br>\n",
    "<img src=\"./resource/annotation_image_red.png\" width=300/>\n",
    "\n"
   ]
  },
  {
   "cell_type": "code",
   "execution_count": 41,
   "id": "62c25d42-d702-4f1a-a1d6-da4f97031b5b",
   "metadata": {},
   "outputs": [],
   "source": [
    "def draw_circle():\n",
    "    points = [(100, 100), (200, 200), (300, 300)]  # Example points, replace with your own\n",
    "    \n",
    "    x, y = zip(*points)  # Unpack points into separate lists for x and y coordinates\n",
    "    plt.plot(x, y, 'bo')\n",
    "\n",
    "# Load and show the image\n",
    "image_path = \"resource/input_image2.jpeg\" \n",
    "\n",
    "load_and_show_image(image_path)\n"
   ]
  },
  {
   "cell_type": "markdown",
   "id": "6c7d97f2-a130-40d7-9336-b94d3bbc06fd",
   "metadata": {
    "jp-MarkdownHeadingCollapsed": true
   },
   "outputs": [],
   "source": [
    "### Answer"
   ]
  },
  {
   "cell_type": "code",
   "execution_count": null,
   "id": "1f8179ca-26cc-4572-b1dd-8ac0f294a411",
   "metadata": {},
   "outputs": [],
   "source": [
    "def draw_circle():\n",
    "    points = [(100, 100), (200, 200), (300, 300)]\n",
    "    \n",
    "    x, y = zip(*points)\n",
    "    plt.plot(x, y, 'ro')\n",
    "\n",
    "# Load and show the image\n",
    "image_path = \"resource/input_image2.jpeg\" \n",
    "\n",
    "load_and_show_image(image_path)\n"
   ]
  },
  {
   "cell_type": "markdown",
   "id": "9c65190e-3ea6-43a4-8e6a-5bea0a5d9d9c",
   "metadata": {},
   "outputs": [],
   "source": [
    "## Exercise 2 - Annotating more circles\n",
    "\n",
    "Starting from 0,0, draw a 10x10 circle array, each 100 pixels apart from each other\n",
    "Modify the `draw_circle` function that plot a 10 x 10 like the image below\n",
    "<br>\n",
    "<img src=\"./resource/annotation_image_10x10.png\" width=300/>\n",
    "\n",
    "hints:\n",
    "1. for x in range(10):"
   ]
  },
  {
   "cell_type": "code",
   "execution_count": 26,
   "id": "d8c74e2d-538b-4a30-b4ca-3eee1b92ac9e",
   "metadata": {},
   "outputs": [],
   "source": [
    "def draw_circle():\n",
    "    # write your code here\n",
    "    pass\n",
    "        \n",
    "# Load and show the image\n",
    "image_path = \"resource/input_image2.jpeg\" \n",
    "\n",
    "load_and_show_image(image_path)"
   ]
  },
  {
   "cell_type": "markdown",
   "id": "bcdb040b-3851-4639-bce5-5214ed1c9646",
   "metadata": {
    "jp-MarkdownHeadingCollapsed": true
   },
   "outputs": [],
   "source": [
    "### Answer"
   ]
  },
  {
   "cell_type": "code",
   "execution_count": 32,
   "id": "962ef3ff-59cf-4ea1-ade8-da6a0b20f3c7",
   "metadata": {},
   "outputs": [],
   "source": [
    "def draw_circle():\n",
    "    for x in range(10):\n",
    "        for y in range(10):\n",
    "            plt.plot(x*100, y*100, 'bo')\n",
    "        \n",
    "\n",
    "# Load and show the image\n",
    "image_path = \"resource/input_image2.jpeg\" \n",
    "\n",
    "load_and_show_image(image_path)"
   ]
  },
  {
   "cell_type": "markdown",
   "id": "db57f843-8aef-4e60-830f-d3ec011ce4c3",
   "metadata": {},
   "outputs": [],
   "source": [
    "## Image Size"
   ]
  },
  {
   "cell_type": "markdown",
   "id": "8cff4029-dc65-456c-8dbd-f1e52519e17f",
   "metadata": {},
   "outputs": [],
   "source": [
    "### Obtain the size of the image\n",
    "\n",
    "Let's read `imread` function from Matplotlib\n",
    "\n",
    "https://matplotlib.org/stable/api/_as_gen/matplotlib.pyplot.imread.html"
   ]
  },
  {
   "cell_type": "code",
   "execution_count": 48,
   "id": "1fbe3c5e-7079-4ad3-bd39-a81c63d2270c",
   "metadata": {},
   "outputs": [],
   "source": [
    "img = mpimg.imread(\"resource/input_image2.jpeg\" )\n",
    "img.shape"
   ]
  },
  {
   "cell_type": "code",
   "execution_count": 51,
   "id": "4211fdc7-0f9a-434b-ae47-2c25cf625f02",
   "metadata": {},
   "outputs": [],
   "source": [
    "height, width, _ = img.shape\n",
    "print(f\"width={width}, height={height}, {_}\", )"
   ]
  },
  {
   "cell_type": "code",
   "execution_count": 12,
   "id": "a3fae2cf-cc1f-4ae5-a12c-480c85efea28",
   "metadata": {},
   "outputs": [],
   "source": [
    "# Shape of the first row of the image\n",
    "img[0].shape"
   ]
  },
  {
   "cell_type": "code",
   "execution_count": 8,
   "id": "ebfe0910-e3fa-4563-bdfe-e45576eef151",
   "metadata": {},
   "outputs": [],
   "source": [
    "img[0][0].shape"
   ]
  },
  {
   "cell_type": "code",
   "execution_count": 9,
   "id": "b79e492b-7778-46e2-ab41-eaf9d1945ea8",
   "metadata": {},
   "outputs": [],
   "source": [
    "img[0][0]"
   ]
  },
  {
   "cell_type": "code",
   "execution_count": 10,
   "id": "be142b20-3d98-4adf-87d5-7ceea05472d9",
   "metadata": {},
   "outputs": [],
   "source": [
    "img[0][0][0]"
   ]
  },
  {
   "cell_type": "markdown",
   "id": "bc4a0b3d-40d6-479e-b9cc-8eae27871daf",
   "metadata": {},
   "outputs": [],
   "source": [
    "## Understand RGB"
   ]
  },
  {
   "cell_type": "code",
   "execution_count": 27,
   "id": "611ccc31-4471-4243-9b59-80d2f72af4cb",
   "metadata": {},
   "outputs": [],
   "source": [
    "import matplotlib.pyplot as plt\n",
    "import numpy as np\n",
    "\n",
    "# Define the dimensions of each color strip\n",
    "height = 255\n",
    "width = 255\n",
    "\n",
    "# Create an empty image of the required size with 3 layers for RGB\n",
    "image = np.zeros((height , width, 3), dtype=np.uint8)\n",
    "\n",
    "# image[:, :, 0] = 255  # Set the red channel to 255\n",
    "\n",
    "for x in range(height):\n",
    "    image[x,:,0] = 0\n",
    "    image[x,:,1] = x\n",
    "    image[x,:,2] = x\n",
    "\n",
    "image[0]\n",
    "# # Set the RGB values\n",
    "# for x in range(0,10):\n",
    "#     for y in range(width):\n",
    "#         image[x][y][0] = 255\n",
    "        \n",
    "    \n",
    "# image[0:height, :, 0] = 255           # Red strip\n",
    "\n",
    "# image[height:2*height, :, 1] = 255    # Green strip\n",
    "# image[2*height:3*height, :, 2] = 255  # Blue strip\n",
    "\n",
    "# Display the image using matplotlib\n",
    "plt.figure(figsize=(3, 3))\n",
    "plt.imshow(image)\n",
    "# plt.axis('off')  # Turn off axis numbers and ticks\n",
    "plt.show()"
   ]
  },
  {
   "cell_type": "markdown",
   "id": "23fa4b23-0332-42a0-8447-0ffb4a522c54",
   "metadata": {},
   "outputs": [],
   "source": [
    "## Calling function with parameters"
   ]
  },
  {
   "cell_type": "markdown",
   "id": "50878d1b-f638-414e-b99b-74086b4a700b",
   "metadata": {},
   "outputs": [],
   "source": [
    "### Exercise #3 - fill the whole image with circle\n",
    "\n",
    "Update the `draw_circle` function to fill up the whole image with circles like below.\n",
    "<br>\n",
    "<img src=\"./resource/annotation_image_full.png\" width=500/>\n",
    "\n",
    "hints:\n",
    "1. To fill the whole image with circle, we need to know the dimension of the image\n"
   ]
  },
  {
   "cell_type": "markdown",
   "id": "fe3f8a9e-b3be-45f4-8b1f-3b58e13df2a3",
   "metadata": {},
   "outputs": [],
   "source": [
    "#### Update the load_and_show_image function\n",
    "\n",
    "Let's update the load_and_show_image function to pass the img varaiable to draw_circle function. Why do we want to do this?"
   ]
  },
  {
   "cell_type": "code",
   "execution_count": 56,
   "id": "6eb5d7a3-9d4a-486d-b959-a89d02ccc4f5",
   "metadata": {},
   "outputs": [],
   "source": [
    "def load_and_show_image(image_path):\n",
    "    # Load the image\n",
    "    img = mpimg.imread(image_path)\n",
    "    imgplot = plt.imshow(img)\n",
    "    \n",
    "    draw_circle(img)\n",
    "    plt.show()"
   ]
  },
  {
   "cell_type": "markdown",
   "id": "48b4781c-cbbe-4e8e-aa6a-736827f7e57d",
   "metadata": {},
   "outputs": [],
   "source": [
    "### Update the function below to fill the image with circles"
   ]
  },
  {
   "cell_type": "code",
   "execution_count": 59,
   "id": "59547ee4-13e3-4946-b200-9b5d7ef2e48c",
   "metadata": {
    "scrolled": true
   },
   "outputs": [],
   "source": [
    "def draw_circle(img):\n",
    "    height, width, _ = img.shape\n",
    "\n",
    "    # Write your logic here\n",
    "    for x in range(10):\n",
    "        for y in range(10):\n",
    "            plt.plot(x*100, y*100, 'bo')\n",
    "\n",
    "# Load and show the image\n",
    "image_path = \"resource/input_image2.jpeg\" \n",
    "\n",
    "load_and_show_image(image_path)"
   ]
  },
  {
   "cell_type": "markdown",
   "id": "e3a9dde4-841d-414f-adfa-6c1f47441eff",
   "metadata": {
    "jp-MarkdownHeadingCollapsed": true
   },
   "outputs": [],
   "source": [
    "#### Answer"
   ]
  },
  {
   "cell_type": "code",
   "execution_count": 61,
   "id": "cb5c74fb-6b60-4de7-a1c5-5941a7d9f7f1",
   "metadata": {},
   "outputs": [],
   "source": [
    "def draw_circle(img):\n",
    "\n",
    "    height, width, _ = img.shape\n",
    "    \n",
    "    for x in range(width//100 + 1):\n",
    "        for y in range(height//100 +1):\n",
    "            plt.plot(x*100, y*100, 'bo')\n",
    "        \n",
    "\n",
    "# Load and show the image\n",
    "image_path = \"resource/input_image2.jpeg\" \n",
    "load_and_show_image(image_path)"
   ]
  },
  {
   "cell_type": "markdown",
   "id": "c1fd2362-ef25-48fb-a882-38e67788c5ef",
   "metadata": {},
   "outputs": [],
   "source": [
    "## Function and parameters\n",
    "\n",
    "Why so complicated?"
   ]
  },
  {
   "cell_type": "markdown",
   "id": "fa4b2ad6-bfc7-4d22-9805-71a7e2019ca9",
   "metadata": {},
   "outputs": [],
   "source": [
    "### Without function"
   ]
  },
  {
   "cell_type": "code",
   "execution_count": 3,
   "id": "7ddc3862-a8ce-4487-b9dd-3213fd689bd6",
   "metadata": {
    "scrolled": true
   },
   "outputs": [],
   "source": [
    "# Load the image\n",
    "image_path = \"resource/input_image2.jpeg\" \n",
    "\n",
    "img = mpimg.imread(image_path)\n",
    "imgplot = plt.imshow(img)\n",
    "\n",
    "height, width, _ = img.shape\n",
    "    \n",
    "for x in range(width//100 + 1):\n",
    "    for y in range(height//100 +1):\n",
    "        plt.plot(x*100, y*100, 'bo')\n",
    "\n",
    "plt.show()"
   ]
  },
  {
   "cell_type": "markdown",
   "id": "0f2a1a7a-d293-4e7d-9e87-8796cc6c1ade",
   "metadata": {},
   "outputs": [],
   "source": [
    "### With function"
   ]
  },
  {
   "cell_type": "code",
   "execution_count": 4,
   "id": "9cbeda61-cd16-4ace-a7d1-740f06b6e2d6",
   "metadata": {},
   "outputs": [],
   "source": [
    "def load_and_show_image(image_path):\n",
    "    # Load the image\n",
    "    img = mpimg.imread(image_path)\n",
    "    imgplot = plt.imshow(img)\n",
    "    \n",
    "    draw_circle(img)\n",
    "    plt.show()\n",
    "\n",
    "def draw_circle(img):\n",
    "    height, width, _ = img.shape\n",
    "    \n",
    "    for x in range(width//100 + 1):\n",
    "        for y in range(height//100 +1):\n",
    "            plt.plot(x*100, y*100, 'bo')\n",
    "\n",
    "image_path = \"resource/input_image2.jpeg\" \n",
    "load_and_show_image(image_path)"
   ]
  },
  {
   "cell_type": "markdown",
   "id": "c351c50c-4794-4a55-acdb-b13930328981",
   "metadata": {},
   "outputs": [],
   "source": [
    "### Read more images"
   ]
  },
  {
   "cell_type": "code",
   "execution_count": 5,
   "id": "a60b177d-4ce5-45ff-897d-cfad1f65f8d1",
   "metadata": {},
   "outputs": [],
   "source": [
    "image_path = \"resource/input_image2.jpeg\" \n",
    "load_and_show_image(image_path)\n",
    "\n",
    "image_path = \"resource/input_image3.jpeg\" \n",
    "load_and_show_image(image_path)\n",
    "\n",
    "image_path = \"resource/input_image4.jpeg\" \n",
    "load_and_show_image(image_path)"
   ]
  },
  {
   "cell_type": "markdown",
   "id": "b9fb2765-79f3-4ed7-8427-3146b7ab95e5",
   "metadata": {},
   "outputs": [],
   "source": [
    "### So? Is function useful?"
   ]
  },
  {
   "cell_type": "markdown",
   "id": "5cccca4b-bbac-4aa2-9743-ad73c8337fcd",
   "metadata": {},
   "outputs": [],
   "source": [
    "<hr/>"
   ]
  },
  {
   "cell_type": "markdown",
   "id": "3b376544-2517-4b95-913f-ce6f522ce5bf",
   "metadata": {},
   "outputs": [],
   "source": [
    "## Congratulation! You have finished this chapter."
   ]
  },
  {
   "cell_type": "markdown",
   "id": "d63a5467-8b99-4112-a85f-8c63a83d575a",
   "metadata": {},
   "outputs": [],
   "source": [
    "This jupyter notebook is created by 10Botics. <br>\n",
    "For permission to use in school, please contact info@10botics.com <br>\n",
    "All rights reserved. 2024."
   ]
  }
 ],
 "metadata": {
  "kernelspec": {
   "display_name": "Python 3 (ipykernel)",
   "language": "python",
   "name": "python3"
  },
  "language_info": {
   "codemirror_mode": {
    "name": "ipython",
    "version": 3
   },
   "file_extension": ".py",
   "mimetype": "text/x-python",
   "name": "python",
   "nbconvert_exporter": "python",
   "pygments_lexer": "ipython3",
   "version": "3.9.19"
  }
 },
 "nbformat": 4,
 "nbformat_minor": 5
}
