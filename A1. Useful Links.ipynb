{
 "cells": [
  {
   "cell_type": "markdown",
   "id": "29371046-3335-4b1c-ba4f-3ee8c237e53b",
   "metadata": {},
   "source": [
    "# Useful Links"
   ]
  },
  {
   "cell_type": "markdown",
   "id": "b436645f-9cb3-4909-bb62-c9b3e3e6daef",
   "metadata": {},
   "source": [
    "## Pose estimation models"
   ]
  },
  {
   "cell_type": "markdown",
   "id": "743816fd-ab6b-4981-bf74-7db3415711cd",
   "metadata": {},
   "source": [
    "### 1. PoseNet\n",
    "\n",
    "Project Link: https://www.tensorflow.org/lite/examples/pose_estimation/overview"
   ]
  },
  {
   "cell_type": "markdown",
   "id": "60ed61fb-341f-424e-bb6f-5158555ee1ca",
   "metadata": {},
   "source": [
    "### 2. MoveNet\n",
    "\n",
    "Project Link: https://blog.tensorflow.org/2021/05/next-generation-pose-detection-with-movenet-and-tensorflowjs.html\n",
    "\n",
    "Model Card: https://storage.googleapis.com/movenet/MoveNet.SinglePose%20Model%20Card.pdf\n",
    "\n",
    "Playground: https://storage.googleapis.com/tfjs-models/demos/pose-detection/index.html?model=posenet"
   ]
  },
  {
   "cell_type": "markdown",
   "id": "515d62e5-f8c8-4e72-bec3-04cab93197b1",
   "metadata": {},
   "source": [
    "### 3. BlazePose\n",
    "\n",
    "Playground: https://mediapipe-studio.webapps.google.com/demo/pose_landmarker"
   ]
  }
 ],
 "metadata": {
  "kernelspec": {
   "display_name": "Python 3 (ipykernel)",
   "language": "python",
   "name": "python3"
  },
  "language_info": {
   "codemirror_mode": {
    "name": "ipython",
    "version": 3
   },
   "file_extension": ".py",
   "mimetype": "text/x-python",
   "name": "python",
   "nbconvert_exporter": "python",
   "pygments_lexer": "ipython3",
   "version": "3.9.2"
  }
 },
 "nbformat": 4,
 "nbformat_minor": 5
}
