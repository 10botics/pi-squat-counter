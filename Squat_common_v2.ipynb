{
 "cells": [
  {
   "cell_type": "markdown",
   "id": "8513baff-cafb-4967-87cf-7f9f03072744",
   "metadata": {},
   "outputs": [],
   "source": [
    "<img src=\"https://10botics.com/logo_jnb.png\" width=\"300\"/>"
   ]
  },
  {
   "cell_type": "code",
   "execution_count": null,
   "id": "26f2d8f7-b043-470f-ba8c-3205d8bf2c25",
   "metadata": {},
   "outputs": [],
   "source": [
    "import tensorflow as tf\n",
    "# import tensorflow_hub as hub\n",
    "# from tensorflow_docs.vis import embed\n",
    "import numpy as np\n",
    "import cv2\n",
    "\n",
    "# Import matplotlib libraries\n",
    "from matplotlib import pyplot as plt\n",
    "from matplotlib.collections import LineCollection\n",
    "import matplotlib.patches as patches\n",
    "\n",
    "# Some modules to display an animation using imageio.\n",
    "import imageio\n",
    "from IPython.display import HTML, display\n",
    "\n",
    "print(\"TF version:\", tf.__version__)\n",
    "# print(\"Hub version:\", hub.__version__)\n"
   ]
  },
  {
   "cell_type": "code",
   "execution_count": null,
   "id": "3387e3ae-1b05-4416-832e-ab3e1315eb52",
   "metadata": {},
   "outputs": [],
   "source": [
    "\n",
    "# Download the model \n",
    "!wget -nc -q -O model.tflite https://tfhub.dev/google/lite-model/movenet/singlepose/lightning/tflite/int8/4?lite-format=tflite\n",
    "\n",
    "# Initialize the TFLite interpreter\n",
    "interpreter = tf.lite.Interpreter(model_path=\"model.tflite\")\n",
    "interpreter.allocate_tensors()"
   ]
  },
  {
   "cell_type": "code",
   "execution_count": null,
   "id": "3ad9fabe-3ed2-4077-aaf7-582c116d775b",
   "metadata": {},
   "outputs": [],
   "source": [
    "# Dictionary that maps from joint names to keypoint indices.\n",
    "KEYPOINT_DICT = {\n",
    "    'nose': 0,\n",
    "    'left_eye': 1,\n",
    "    'right_eye': 2,\n",
    "    'left_ear': 3,\n",
    "    'right_ear': 4,\n",
    "    'left_shoulder': 5,\n",
    "    'right_shoulder': 6,\n",
    "    'left_elbow': 7,\n",
    "    'right_elbow': 8,\n",
    "    'left_wrist': 9,\n",
    "    'right_wrist': 10,\n",
    "    'left_hip': 11,\n",
    "    'right_hip': 12,\n",
    "    'left_knee': 13,\n",
    "    'right_knee': 14,\n",
    "    'left_ankle': 15,\n",
    "    'right_ankle': 16\n",
    "}\n"
   ]
  },
  {
   "cell_type": "code",
   "execution_count": null,
   "id": "1f2e0bde-24c9-4305-af63-00df132d90a4",
   "metadata": {},
   "outputs": [],
   "source": [
    "model_input_size = 192\n",
    "sides = [\"left\" , \"right\"]\n",
    "body_parts = [\"shoulder\", \"hip\", \"ankle\", \"knee\"]\n",
    "\n",
    "\n",
    "def movenet(input_image):\n",
    "    \"\"\"Runs detection on an input image.\n",
    "\n",
    "    Args:\n",
    "      input_image: A [1, height, width, 3] tensor represents the input image\n",
    "        pixels. Note that the height/width should already be resized and match the\n",
    "        expected input resolution of the model before passing into this function.\n",
    "\n",
    "    Returns:\n",
    "      A [1, 1, 17, 3] float numpy array representing the predicted keypoint\n",
    "      coordinates and scores.\n",
    "    \"\"\"\n",
    "    # TF Lite format expects tensor type of uint8.\n",
    "    input_image = tf.cast(input_image, dtype=tf.uint8)\n",
    "    input_details = interpreter.get_input_details()    \n",
    "    output_details = interpreter.get_output_details()\n",
    "    interpreter.set_tensor(input_details[0]['index'], input_image.numpy())\n",
    "    # Invoke inference.\n",
    "    interpreter.invoke()\n",
    "    # Get the model prediction.\n",
    "    keypoints_with_scores = interpreter.get_tensor(output_details[0]['index'])\n",
    "    return keypoints_with_scores\n",
    "    \n",
    "\n",
    "def read_image(image_path):\n",
    "    # Show the image\n",
    "\n",
    "    import matplotlib.image as mpimg\n",
    "    image = mpimg.imread(image_path)\n",
    "    \n",
    "    return image    \n",
    "\n",
    "def convert_to_movenet_format(image):\n",
    "    expanded_image = tf.expand_dims(image, axis=0)    \n",
    "    resized_image = tf.image.resize_with_pad(expanded_image, model_input_size, model_input_size)\n",
    "    return resized_image\n",
    "\n",
    "\n",
    "def reoganize_output(movenet_output):\n",
    "    points = dict()\n",
    "    \n",
    "    for side in sides:\n",
    "        points[side] = dict()\n",
    "        for body_part in body_parts:\n",
    "            points[side][body_part] = movenet_output[0][0][KEYPOINT_DICT[f\"{side}_{body_part}\"]]\n",
    "\n",
    "    return points\n",
    "\n",
    "\n",
    "def annotate_and_show(image, points):\n",
    "\n",
    "    height, width, _ = image.shape\n",
    "    \n",
    "    plt.imshow(image /255.0)\n",
    "    \n",
    "    for side in sides:\n",
    "        for body_part in body_parts:            \n",
    "            absolute_x = points[side][body_part][1] * width\n",
    "            absolute_y = points[side][body_part][0] * height\n",
    "            # print(f\"{side}_{body_part}, x = {absolute_x} , y = {absolute_y}\")\n",
    "            if side == \"left\":\n",
    "                plt.plot(absolute_x, absolute_y, 'bo')\n",
    "            else:\n",
    "                plt.plot(absolute_x, absolute_y, 'ro')\n",
    "    \n",
    "    plt.show()\n",
    "\n",
    "\n",
    "    "
   ]
  },
  {
   "cell_type": "code",
   "execution_count": null,
   "id": "95c4620c-24ee-466c-981d-e6e3dcc06449",
   "metadata": {},
   "outputs": [],
   "source": []
  },
  {
   "cell_type": "markdown",
   "id": "5cccca4b-bbac-4aa2-9743-ad73c8337fcd",
   "metadata": {},
   "outputs": [],
   "source": [
    "<hr/>"
   ]
  },
  {
   "cell_type": "markdown",
   "id": "3b376544-2517-4b95-913f-ce6f522ce5bf",
   "metadata": {},
   "outputs": [],
   "source": [
    "## Congratulation! You have finished this chapter."
   ]
  },
  {
   "cell_type": "markdown",
   "id": "d63a5467-8b99-4112-a85f-8c63a83d575a",
   "metadata": {},
   "outputs": [],
   "source": [
    "This jupyter notebook is created by 10Botics. <br>\n",
    "For permission to use in school, please contact info@10botics.com <br>\n",
    "All rights reserved. 2024."
   ]
  }
 ],
 "metadata": {
  "kernelspec": {
   "display_name": "Python 3 (ipykernel)",
   "language": "python",
   "name": "python3"
  },
  "language_info": {
   "codemirror_mode": {
    "name": "ipython",
    "version": 3
   },
   "file_extension": ".py",
   "mimetype": "text/x-python",
   "name": "python",
   "nbconvert_exporter": "python",
   "pygments_lexer": "ipython3",
   "version": "3.9.19"
  }
 },
 "nbformat": 4,
 "nbformat_minor": 5
}
