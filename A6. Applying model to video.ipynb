{
 "cells": [
  {
   "cell_type": "markdown",
   "id": "8513baff-cafb-4967-87cf-7f9f03072744",
   "metadata": {},
   "outputs": [],
   "source": [
    "<img src=\"https://10botics.com/logo_jnb.png\" width=\"300\"/>"
   ]
  },
  {
   "cell_type": "markdown",
   "id": "1aa236a0-7fe7-46f7-a433-ff75cd15d61a",
   "metadata": {},
   "outputs": [],
   "source": [
    "# Applying model to a video"
   ]
  },
  {
   "cell_type": "markdown",
   "id": "d9d6f8c5-1652-4df5-ba92-7d48f3ae0c5a",
   "metadata": {},
   "outputs": [],
   "source": [
    "## Include libraries and functions"
   ]
  },
  {
   "cell_type": "code",
   "execution_count": null,
   "id": "0e9227bc-f249-4da6-91ff-11719c68c8fa",
   "metadata": {},
   "outputs": [],
   "source": [
    "%run Squat_common_v2.ipynb\n",
    "%run functions_angle_calculation.ipynb\n",
    "%run functions_video.ipynb"
   ]
  },
  {
   "cell_type": "markdown",
   "id": "4ab4dd8b-2460-4480-bf98-6c152b81be2b",
   "metadata": {},
   "outputs": [],
   "source": [
    "## Playing a video"
   ]
  },
  {
   "cell_type": "code",
   "execution_count": null,
   "id": "77090d1f-bb28-4d09-bd75-9c11b2882bfe",
   "metadata": {},
   "outputs": [],
   "source": [
    "# this frame_process does nothing for now, just returning the frame\n",
    "\n",
    "def frame_process(frame):\n",
    "    return frame"
   ]
  },
  {
   "cell_type": "code",
   "execution_count": null,
   "id": "2ee0089e-7cfc-4d9b-abe3-d5e392259ae6",
   "metadata": {},
   "outputs": [],
   "source": [
    "display(stopButton)\n",
    "thread = threading.Thread(target=view, args=(stopButton, \"./resource/Produce_2_direct.mp4\", 0, frame_process))\n",
    "thread.start()\n"
   ]
  },
  {
   "cell_type": "markdown",
   "id": "ac0f859c-5aa8-4aac-aea2-6ee764dd0c4d",
   "metadata": {},
   "outputs": [],
   "source": [
    "## Add some text to the video"
   ]
  },
  {
   "cell_type": "code",
   "execution_count": null,
   "id": "42c8ca7f-3ea6-4fe5-a232-b1db37700148",
   "metadata": {},
   "outputs": [],
   "source": [
    "def putText(frame, text, color = (0, 255, 0), position_x = 50, position_y = 50):\n",
    "    # Define the text properties\n",
    "    font = cv2.FONT_HERSHEY_SIMPLEX\n",
    "    text_position = (position_x, position_y)\n",
    "    text_scale = 0.65\n",
    "    text_color = color\n",
    "    text_thickness = 2\n",
    "\n",
    "    # Add text annotation on the frame\n",
    "    cv2.putText(frame, text, text_position, font, text_scale, text_color, text_thickness)"
   ]
  },
  {
   "cell_type": "code",
   "execution_count": null,
   "id": "7a2a4e2b-907c-42e6-bb39-240cdf0dbcfc",
   "metadata": {},
   "outputs": [],
   "source": [
    "def frame_process(frame):\n",
    "    text = f\"HAHAHA\"\n",
    "    putText(frame, text)\n",
    "    return frame\n",
    "\n",
    "display(stopButton)\n",
    "thread = threading.Thread(target=view, args=(stopButton, \"./resource/Produce_2_direct.mp4\", 0, frame_process))\n",
    "thread.start()\n"
   ]
  },
  {
   "cell_type": "markdown",
   "id": "37b64737-9d3e-435b-a3e4-e20e10731e8a",
   "metadata": {},
   "outputs": [],
   "source": [
    "### Add a counter and angles to the video"
   ]
  },
  {
   "cell_type": "code",
   "execution_count": null,
   "id": "347126e0-9345-4dec-bcb8-8536555e5aae",
   "metadata": {},
   "outputs": [],
   "source": [
    "count = 0\n",
    "knee_angle = 0\n",
    "hip_angle = 0\n",
    "\n",
    "def frame_process(frame):\n",
    "    global count\n",
    "    text = f\"Count: {count}  Knee: {int(knee_angle)}  Hip: {int(hip_angle)}\"\n",
    "    count = count + 1\n",
    "    \n",
    "    putText(frame, text)\n",
    "    return frame\n",
    "\n",
    "display(stopButton)\n",
    "thread = threading.Thread(target=view, args=(stopButton, \"./resource/Produce_2_direct.mp4\", 0, frame_process))\n",
    "thread.start()\n"
   ]
  },
  {
   "cell_type": "markdown",
   "id": "f847fccf-407e-441b-9a3d-79ed0eb8744d",
   "metadata": {},
   "outputs": [],
   "source": [
    "## Calculate angle for each frame"
   ]
  },
  {
   "cell_type": "code",
   "execution_count": null,
   "id": "13991d06-1178-4819-98e5-48b59fbf49be",
   "metadata": {},
   "outputs": [],
   "source": [
    "def frame_process(frame):\n",
    "    global repetition, squat\n",
    "    # calculate and display angle\n",
    "    # keypoints_with_scores = get_keypoints_with_scores_from_image_with_movenet(frame,input_size,input_size)\n",
    "\n",
    "    movenet_frame = convert_to_movenet_format(frame)\n",
    "    movenet_output = movenet(movenet_frame)\n",
    "    keypoints_with_scores = reoganize_output(movenet_output)\n",
    "\n",
    "    hip_angle = calculate_hip_joint_angle(keypoints_with_scores)\n",
    "    knee_angle = calculate_knee_joint_angle(keypoints_with_scores)\n"
   ]
  },
  {
   "cell_type": "code",
   "execution_count": null,
   "id": "d0108ce8-0fe3-4520-b521-63d14a4ffcb9",
   "metadata": {},
   "outputs": [],
   "source": [
    "def resize_with_pad(image, target_height=None, target_width=None, pad_color=(0, 0, 0)):    \n",
    "    original_height, original_width = image.shape[:2]\n",
    "\n",
    "    if ((target_height is None) or (target_width is None)):\n",
    "        target_height = max(original_height, original_width)\n",
    "        target_width = target_height\n",
    "    \n",
    "    \n",
    "    # Calculate the scaling factor and new dimensions while maintaining aspect ratio\n",
    "    scale = min(target_width / original_width, target_height / original_height)\n",
    "    new_width = int(original_width * scale)\n",
    "    new_height = int(original_height * scale)\n",
    "    \n",
    "    # Resize the image\n",
    "    resized_image = cv2.resize(image, (new_width, new_height), interpolation=cv2.INTER_LINEAR)\n",
    "    \n",
    "    # Create a new image with the target dimensions and the padding color\n",
    "    padded_image = np.full((target_height, target_width, 3), pad_color, dtype=np.uint8)\n",
    "    \n",
    "    # Calculate the padding offsets\n",
    "    x_offset = (target_width - new_width) // 2\n",
    "    y_offset = (target_height - new_height) // 2\n",
    "    \n",
    "    # Place the resized image in the center of the padded image\n",
    "    padded_image[y_offset:y_offset + new_height, x_offset:x_offset + new_width] = resized_image\n",
    "    \n",
    "    return padded_image\n"
   ]
  },
  {
   "cell_type": "code",
   "execution_count": null,
   "id": "ee4ab67b-cbfc-4de3-b910-6d607daf7c4a",
   "metadata": {},
   "outputs": [],
   "source": [
    "repetition = 0\n",
    "squat = 0\n",
    "\n",
    "def absolute_xy(frame, point):\n",
    "    x = point[1] * frame.shape[1]\n",
    "    y = point[0] * frame.shape[0]\n",
    "    return (int(x), int(y))\n",
    "    \n",
    "def frame_process(frame):\n",
    "    global repetition, squat\n",
    "    # calculate and display angle\n",
    "    # keypoints_with_scores = get_keypoints_with_scores_from_image_with_movenet(frame,input_size,input_size)\n",
    "\n",
    "    movenet_frame = convert_to_movenet_format(frame)\n",
    "    movenet_output = movenet(movenet_frame)\n",
    "    keypoints_with_scores = reoganize_output(movenet_output)\n",
    "\n",
    "    hip_angle = calculate_hip_joint_angle(keypoints_with_scores)\n",
    "    knee_angle = calculate_knee_joint_angle(keypoints_with_scores)\n",
    "\n",
    "    frame = resize_with_pad(frame)\n",
    "    # frame = movenet_frame.numpy()\n",
    "    # print(type(movenet_frame[0]))\n",
    "    # print(movenet_frame[0])\n",
    "    # frame = movenet_frame[0].numpy()\n",
    "\n",
    "\n",
    "    # Gesture judgement from angle of hip-joint and knee-joint\n",
    "    # if gesture is from squat (squat == 1) change to stand (squat == 0), repetition add by 1\n",
    "    if hip_angle<135 and knee_angle<120:\n",
    "        squat = 1\n",
    "    elif hip_angle>135 and knee_angle>120:\n",
    "        if squat == 1:\n",
    "            repetition += 1\n",
    "        squat = 0\n",
    "    text = f\"Reps: {repetition}  Knee: {int(knee_angle)}  Hip: {int(hip_angle)}\"\n",
    "    if squat:\n",
    "        text_color = (0,255,0)\n",
    "    else:\n",
    "        text_color = (128, 192, 64)\n",
    "\n",
    "    putText(frame, text, text_color)\n",
    "\n",
    "    return frame\n",
    "\n",
    "\n",
    "# Run\n",
    "# ================\n",
    "\n",
    "display(stopButton)\n",
    "thread = threading.Thread(target=view, args=(stopButton, \"./resource/Produce_2_direct.mp4\", 0, frame_process, 10))\n",
    "thread.start()\n",
    "\n"
   ]
  },
  {
   "cell_type": "markdown",
   "id": "51dc77e4-93ea-44bf-addb-df8785f0841b",
   "metadata": {},
   "outputs": [],
   "source": [
    "## Annotate the keypoints"
   ]
  },
  {
   "cell_type": "code",
   "execution_count": null,
   "id": "8ac9b2eb-9757-40ff-bfe0-78bdb741b013",
   "metadata": {},
   "outputs": [],
   "source": [
    "# Define the color (BGR) and size\n",
    "\n",
    "def cv2_circle(frame, xy, text=None):\n",
    "    \n",
    "    color = (255, 0, 0)  # Blue color\n",
    "    radius = 5\n",
    "    thickness = -1  # Solid circle\n",
    "    \n",
    "    # Draw the point\n",
    "    cv2.circle(frame, xy, radius, color, thickness)\n",
    "\n",
    "    if text is not None:\n",
    "        x,y = xy\n",
    "        \n",
    "        putText(frame, text, (255,0,0),  int(x * 1.1), y)\n",
    "        "
   ]
  },
  {
   "cell_type": "code",
   "execution_count": null,
   "id": "d3ed35b7-94f7-4c4d-a8fd-ac2ad4e4d8cb",
   "metadata": {},
   "outputs": [],
   "source": [
    "repetition = 0\n",
    "squat = 0\n",
    "\n",
    "def frame_process(frame):\n",
    "    global repetition, squat\n",
    "    # calculate and display angle\n",
    "    # keypoints_with_scores = get_keypoints_with_scores_from_image_with_movenet(frame,input_size,input_size)\n",
    "\n",
    "    movenet_frame = convert_to_movenet_format(frame)\n",
    "    movenet_output = movenet(movenet_frame)\n",
    "    keypoints_with_scores = reoganize_output(movenet_output)\n",
    "\n",
    "    hip_angle = calculate_hip_joint_angle(keypoints_with_scores)\n",
    "    knee_angle = calculate_knee_joint_angle(keypoints_with_scores)\n",
    "\n",
    "    frame = resize_with_pad(frame)\n",
    "    # frame = movenet_frame.numpy()\n",
    "    # print(type(movenet_frame[0]))\n",
    "    # print(movenet_frame[0])\n",
    "    # frame = movenet_frame[0].numpy()\n",
    "\n",
    "\n",
    "    # Gesture judgement from angle of hip-joint and knee-joint\n",
    "    # if gesture is from squat (squat == 1) change to stand (squat == 0), repetition add by 1\n",
    "    if hip_angle<135 and knee_angle<120:\n",
    "        squat = 1\n",
    "    elif hip_angle>135 and knee_angle>120:\n",
    "        if squat == 1:\n",
    "            repetition += 1\n",
    "        squat = 0\n",
    "    text = f\"Reps: {repetition}  Knee: {int(knee_angle)}  Hip: {int(hip_angle)}\"\n",
    "    if squat:\n",
    "        text_color = (0,255,0)\n",
    "    else:\n",
    "        text_color = (128, 192, 64)\n",
    "\n",
    "    # # draw visualized prediction from MoveNet on the frame. Attention: Not recommended, VERY LAGGY!\n",
    "    # #frame = draw_prediction_on_image( tf_image_to_model(frame,600,600)[0]/255, keypoints_with_scores)\n",
    "    \n",
    "    \n",
    "    putText(frame, text, text_color)\n",
    "    # hip_x, hip_y = \n",
    "    # hip_x, hip_y = absolute_xy(frame, keypoints_with_scores['right']['shoulder'])\n",
    "\n",
    "    for body_part in body_parts:    \n",
    "        cv2_circle(frame, absolute_xy(frame, keypoints_with_scores['right'][body_part]), body_part)\n",
    "    \n",
    "    # cv2_circle(frame, absolute_xy(frame, keypoints_with_scores['right']['shoulder']))\n",
    "    # cv2_circle(frame, absolute_xy(frame, keypoints_with_scores['right']['knee']))\n",
    "    # cv2_circle(frame, absolute_xy(frame, keypoints_with_scores['right']['ankle']))\n",
    "    \n",
    "    \n",
    "    putText(frame, \"hip\", text_color)\n",
    "    \n",
    "\n",
    "    return frame\n",
    "\n",
    "\n",
    "# Run\n",
    "# ================\n",
    "\n",
    "display(stopButton)\n",
    "thread = threading.Thread(target=view, args=(stopButton, \"./resource/Produce_2_direct.mp4\", 0, frame_process, 10))\n",
    "thread.start()\n",
    "\n"
   ]
  },
  {
   "cell_type": "markdown",
   "id": "5cccca4b-bbac-4aa2-9743-ad73c8337fcd",
   "metadata": {},
   "outputs": [],
   "source": [
    "<hr/>"
   ]
  },
  {
   "cell_type": "markdown",
   "id": "3b376544-2517-4b95-913f-ce6f522ce5bf",
   "metadata": {},
   "outputs": [],
   "source": [
    "## Congratulation! You have finished this chapter."
   ]
  },
  {
   "cell_type": "markdown",
   "id": "d63a5467-8b99-4112-a85f-8c63a83d575a",
   "metadata": {},
   "outputs": [],
   "source": [
    "This jupyter notebook is created by 10Botics. <br>\n",
    "For permission to use in school, please contact info@10botics.com <br>\n",
    "All rights reserved. 2024."
   ]
  }
 ],
 "metadata": {
  "kernelspec": {
   "display_name": "Python 3 (ipykernel)",
   "language": "python",
   "name": "python3"
  },
  "language_info": {
   "codemirror_mode": {
    "name": "ipython",
    "version": 3
   },
   "file_extension": ".py",
   "mimetype": "text/x-python",
   "name": "python",
   "nbconvert_exporter": "python",
   "pygments_lexer": "ipython3",
   "version": "3.9.19"
  }
 },
 "nbformat": 4,
 "nbformat_minor": 5
}
