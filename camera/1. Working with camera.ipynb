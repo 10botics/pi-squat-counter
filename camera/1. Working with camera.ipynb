{
 "cells": [
  {
   "cell_type": "markdown",
   "id": "8c225d6f-195d-4088-b4bf-58f529de910a",
   "metadata": {},
   "source": [
    "<img src=\"https://10botics.com/logo_jnb.png\" alt=\"drawing\" width=\"200\"/>"
   ]
  },
  {
   "cell_type": "markdown",
   "id": "ae57605c-ef1b-4dcf-b3da-a355c6767485",
   "metadata": {},
   "source": [
    "# Working with Camera"
   ]
  },
  {
   "cell_type": "markdown",
   "id": "48837e68-3759-477c-b750-dff7ef9fb83c",
   "metadata": {},
   "source": [
    "In this lesson, you will learn:\n",
    "\n",
    "1. Capture an image using the camera attached to the raspberry pi\n",
    "2. Change the size of the image captured"
   ]
  },
  {
   "cell_type": "markdown",
   "id": "c328984d-df38-4da8-981a-099b6f1347e1",
   "metadata": {},
   "source": [
    "## Preparation"
   ]
  },
  {
   "cell_type": "markdown",
   "id": "1d58392f-da9f-4e46-b48f-b6fb9ddd2bc8",
   "metadata": {},
   "source": [
    "If you have problem connecting your camera, see `Setup PiCamera access via cv2` jupyter notebook"
   ]
  },
  {
   "cell_type": "markdown",
   "id": "da0a7965-b473-4d2d-a4f8-a58fb0795fe6",
   "metadata": {},
   "source": [
    "## Hello World (Camera version)"
   ]
  },
  {
   "cell_type": "code",
   "execution_count": null,
   "id": "36500bca-622e-4252-a029-1ac2de5b64cc",
   "metadata": {},
   "outputs": [],
   "source": [
    "import cv2\n",
    "from IPython.display import display, Image\n",
    "\n",
    "cap = cv2.VideoCapture(0)\n",
    "    \n",
    "ret, frame = cap.read()\n",
    "\n",
    "if ret:\n",
    "    _, frame = cv2.imencode('.jpeg', frame)\n",
    "    display(Image(data=frame.tobytes()))\n",
    "else:\n",
    "    print(\"failed\")\n",
    "\n",
    "# Release the webcam\n",
    "cap.release()\n"
   ]
  },
  {
   "cell_type": "markdown",
   "id": "f8439385-7603-4b0a-b3a7-5da2756b3b59",
   "metadata": {},
   "source": [
    "## Change the size of the image"
   ]
  },
  {
   "cell_type": "markdown",
   "id": "7da2b395-dac2-4224-80cf-18f4dc4fcd51",
   "metadata": {},
   "source": [
    "Let's define a function to set the size of the image"
   ]
  },
  {
   "cell_type": "code",
   "execution_count": 34,
   "id": "f8ed9de8-9799-43fc-9959-f43fbb6307d3",
   "metadata": {},
   "outputs": [],
   "source": [
    "def setCaptureProperties(cap, width, height, fps):\n",
    "    # set the capture properties\n",
    "    cap.set(cv2.CAP_PROP_FRAME_WIDTH, width)\n",
    "    cap.set(cv2.CAP_PROP_FRAME_HEIGHT, height)\n",
    "    cap.set(cv2.CAP_PROP_FPS, fps)\n",
    "    "
   ]
  },
  {
   "cell_type": "markdown",
   "id": "943c1918-420a-4cff-9b6f-e0fa90bce98e",
   "metadata": {},
   "source": [
    "### Challenge \n",
    "Copy and paste the line below to the program. \n",
    "\n",
    "1. Where should you put it?\n",
    "2. Try to adjust the value to capture a bigger or small image. Try 160 x 120, 1920 x 1080\n",
    "\n",
    "\n",
    "`setCaptureProperties(cap, 640, 480, 30)`\n"
   ]
  },
  {
   "cell_type": "code",
   "execution_count": null,
   "id": "91779406-b93a-463d-bddd-ac71dd2a0b4d",
   "metadata": {},
   "outputs": [],
   "source": [
    "import cv2\n",
    "\n",
    "cap = cv2.VideoCapture(0)\n",
    "\n",
    "ret, frame = cap.read()\n",
    "\n",
    "if ret:\n",
    "    _, frame = cv2.imencode('.jpeg', frame)\n",
    "    display(Image(data=frame.tobytes()))\n",
    "else:\n",
    "    print(\"failed\")\n",
    "\n",
    "# Release the webcam\n",
    "cap.release()\n"
   ]
  },
  {
   "cell_type": "markdown",
   "id": "5dbc8d00-8900-4da4-acaf-7fb279664fdb",
   "metadata": {},
   "source": [
    "This jupyter notebook is created by 10Botics. All rights reserved. 2024."
   ]
  }
 ],
 "metadata": {
  "kernelspec": {
   "display_name": "Python 3 (ipykernel)",
   "language": "python",
   "name": "python3"
  },
  "language_info": {
   "codemirror_mode": {
    "name": "ipython",
    "version": 3
   },
   "file_extension": ".py",
   "mimetype": "text/x-python",
   "name": "python",
   "nbconvert_exporter": "python",
   "pygments_lexer": "ipython3",
   "version": "3.9.2"
  }
 },
 "nbformat": 4,
 "nbformat_minor": 5
}
