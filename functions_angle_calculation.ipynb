{
 "cells": [
  {
   "cell_type": "markdown",
   "id": "8513baff-cafb-4967-87cf-7f9f03072744",
   "metadata": {},
   "outputs": [],
   "source": [
    "<img src=\"https://10botics.com/logo_jnb.png\" width=\"300\"/>"
   ]
  },
  {
   "cell_type": "code",
   "execution_count": null,
   "id": "aa57dbde-2a68-4771-97b6-aba15cff2368",
   "metadata": {},
   "outputs": [],
   "source": [
    "def calculate_angle(a,b,c):\n",
    "    a = np.array(a) # First\n",
    "    b = np.array(b) # Mid\n",
    "    c = np.array(c) # End\n",
    "    \n",
    "    radians = np.arctan2(c[1]-b[1], c[0]-b[0]) - np.arctan2(a[1]-b[1], a[0]-b[0])\n",
    "    angle = np.abs(radians*180.0/np.pi)\n",
    "    \n",
    "    if angle > 180.0:\n",
    "        angle = 360-angle\n",
    "        \n",
    "    return round(angle,2)"
   ]
  },
  {
   "cell_type": "code",
   "execution_count": null,
   "id": "26f2d8f7-b043-470f-ba8c-3205d8bf2c25",
   "metadata": {},
   "outputs": [],
   "source": [
    "def calculate_hip_joint_angle(points, keypoint_threshold = 0.2):     \n",
    "    # get the position of keypoints from MoveNet output\n",
    "    a1y, a1x, a1s = points['left']['shoulder']\n",
    "    a2y, a2x, a2s = points['right']['shoulder']\n",
    "    b1y, b1x, b1s = points['left']['hip']\n",
    "    b2y, b2x, b2s = points['right']['hip']\n",
    "    c1y, c1x, c1s = points['left']['knee']\n",
    "    c2y, c2x, c2s = points['right']['knee']\n",
    "\n",
    "    # calculate angle of left and right body respectively\n",
    "    angle1 = calculate_angle( (a1y, a1x), (b1y, b1x), (c1y, c1x) )\n",
    "    angle2 = calculate_angle( (a2y, a2x), (b2y, b2x), (c2y, c2x) )\n",
    "\n",
    "    # return the midpoint of two angle\n",
    "    return (angle1 + angle2) / 2\n",
    "    "
   ]
  },
  {
   "cell_type": "code",
   "execution_count": null,
   "id": "35342c00-319c-4d4b-9b53-842ba1498935",
   "metadata": {},
   "outputs": [],
   "source": [
    "def calculate_knee_joint_angle(points, keypoint_threshold = 0.2): \n",
    "    # get the position of keypoints from MoveNet output\n",
    "    a1y, a1x, a1s = points['left']['shoulder']\n",
    "    a2y, a2x, a2s = points['right']['shoulder']\n",
    "    b1y, b1x, b1s = points['left']['hip']\n",
    "    b2y, b2x, b2s = points['right']['hip']\n",
    "    c1y, c1x, c1s = points['left']['knee']\n",
    "    c2y, c2x, c2s = points['right']['knee']\n",
    "\n",
    "    # calculate angle of left and right body respectively\n",
    "    angle1 = calculate_angle( (a1y, a1x), (b1y, b1x), (c1y, c1x) )\n",
    "    angle2 = calculate_angle( (a2y, a2x), (b2y, b2x), (c2y, c2x) )\n",
    "\n",
    "    # return the midpoint of two angle\n",
    "    return (angle1 + angle2) / 2\n",
    "    "
   ]
  },
  {
   "cell_type": "markdown",
   "id": "5cccca4b-bbac-4aa2-9743-ad73c8337fcd",
   "metadata": {},
   "outputs": [],
   "source": [
    "<hr/>"
   ]
  },
  {
   "cell_type": "markdown",
   "id": "3b376544-2517-4b95-913f-ce6f522ce5bf",
   "metadata": {},
   "outputs": [],
   "source": [
    "## Congratulation! You have finished this chapter."
   ]
  },
  {
   "cell_type": "markdown",
   "id": "d63a5467-8b99-4112-a85f-8c63a83d575a",
   "metadata": {},
   "outputs": [],
   "source": [
    "This jupyter notebook is created by 10Botics. <br>\n",
    "For permission to use in school, please contact info@10botics.com <br>\n",
    "All rights reserved. 2024."
   ]
  }
 ],
 "metadata": {
  "kernelspec": {
   "display_name": "Python 3 (ipykernel)",
   "language": "python",
   "name": "python3"
  },
  "language_info": {
   "codemirror_mode": {
    "name": "ipython",
    "version": 3
   },
   "file_extension": ".py",
   "mimetype": "text/x-python",
   "name": "python",
   "nbconvert_exporter": "python",
   "pygments_lexer": "ipython3",
   "version": "3.9.19"
  }
 },
 "nbformat": 4,
 "nbformat_minor": 5
}
