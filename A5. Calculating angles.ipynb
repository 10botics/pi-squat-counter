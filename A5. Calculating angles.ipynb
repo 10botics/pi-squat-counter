{
 "cells": [
  {
   "cell_type": "markdown",
   "id": "8513baff-cafb-4967-87cf-7f9f03072744",
   "metadata": {},
   "outputs": [],
   "source": [
    "<img src=\"https://10botics.com/logo_jnb.png\" width=\"300\"/>"
   ]
  },
  {
   "cell_type": "markdown",
   "id": "83e130cd-45c6-4561-a3a4-ee596d311fdc",
   "metadata": {},
   "outputs": [],
   "source": [
    "# Calculating Angles"
   ]
  },
  {
   "cell_type": "markdown",
   "id": "e5d79862-eecb-49cd-80d2-e8f92a298b18",
   "metadata": {},
   "outputs": [],
   "source": [
    "In this lesson, you will learn:\n",
    "\n",
    "1. Load the functions inside another juptyer notebook\n",
    "2. Calculate angle of 3 given points\n",
    "3. Calculate the hip and knee angle\n",
    "\n",
    "<img src=\"../resource/calculating_angles_overview.png\" width=300/>"
   ]
  },
  {
   "cell_type": "markdown",
   "id": "abc2e056-ca58-479f-b568-33fa58e633ce",
   "metadata": {},
   "outputs": [],
   "source": [
    "## Load the functions we have written in the previous chapters\n",
    "\n",
    "We can use `%run xxx.ipynb` to include the function in other jupyter notebook. This makes our notebook easier to read and less clumsy."
   ]
  },
  {
   "cell_type": "code",
   "execution_count": 98,
   "id": "6366bb72-0de2-48d7-bbcd-faad7423bdf0",
   "metadata": {},
   "outputs": [],
   "source": [
    "%run Squat_common_v2.ipynb"
   ]
  },
  {
   "cell_type": "markdown",
   "id": "b2381ea7-535b-46cc-8aea-ec2309e8f6b3",
   "metadata": {},
   "outputs": [],
   "source": [
    "### Try using the functions"
   ]
  },
  {
   "cell_type": "code",
   "execution_count": 99,
   "id": "273013ab-cf24-40f1-aeb7-8908e54ae0a3",
   "metadata": {},
   "outputs": [],
   "source": [
    "# image_path = 'resource/input_image.jpeg'\n",
    "image_path = 'resource/input_image2.jpeg'\n",
    "# image_path = 'resource/input_image3.jpeg'\n",
    "# image_path = 'resource/input_image4.jpeg'\n",
    "\n",
    "image = read_image(image_path)\n",
    "movenet_image = convert_to_movenet_format(image)\n",
    "movenet_output = movenet(movenet_image)\n",
    "points = reoganize_output(movenet_output)\n",
    "annotate_and_show(movenet_image[0], points)\n"
   ]
  },
  {
   "cell_type": "code",
   "execution_count": 100,
   "id": "3e19af62-38fd-4649-b792-179643d8915f",
   "metadata": {},
   "outputs": [],
   "source": [
    "points"
   ]
  },
  {
   "cell_type": "markdown",
   "id": "8915c084-1089-4736-947d-e6b56b2cbad0",
   "metadata": {},
   "outputs": [],
   "source": [
    "## Function to calculate angle of 3 given points\n",
    "\n",
    "<img src=\"../resource/calculating_angles_3points.png\" width=300/>\n"
   ]
  },
  {
   "cell_type": "code",
   "execution_count": 101,
   "id": "f1640d69-a1f1-499f-9703-8d716be4ed60",
   "metadata": {},
   "outputs": [],
   "source": [
    "def calculate_angle(a,b,c):\n",
    "    a = np.array(a) # First\n",
    "    b = np.array(b) # Mid\n",
    "    c = np.array(c) # End\n",
    "    \n",
    "    radians = np.arctan2(c[1]-b[1], c[0]-b[0]) - np.arctan2(a[1]-b[1], a[0]-b[0])\n",
    "    angle = np.abs(radians*180.0/np.pi)\n",
    "    \n",
    "    if angle > 180.0:\n",
    "        angle = 360-angle\n",
    "        \n",
    "    return round(angle,2)"
   ]
  },
  {
   "cell_type": "markdown",
   "id": "e1d57b7b-3e80-41cf-b954-202f869f01f3",
   "metadata": {},
   "outputs": [],
   "source": [
    "## Calculate the hip angle (Angle ABC)\n",
    "\n",
    "\n",
    "<img src=\"../resource/calculating_angles_overview.png\" width=200/>"
   ]
  },
  {
   "cell_type": "code",
   "execution_count": 102,
   "id": "bdbe46bb-aeae-4914-a0ff-1f2943208491",
   "metadata": {},
   "outputs": [],
   "source": [
    "def calculate_hip_joint_angle(points, keypoint_threshold = 0.2):     \n",
    "    # get the position of keypoints from MoveNet output\n",
    "    a1y, a1x, a1s = points['left']['shoulder']\n",
    "    a2y, a2x, a2s = points['right']['shoulder']\n",
    "    b1y, b1x, b1s = points['left']['hip']\n",
    "    b2y, b2x, b2s = points['right']['hip']\n",
    "    c1y, c1x, c1s = points['left']['knee']\n",
    "    c2y, c2x, c2s = points['right']['knee']\n",
    "\n",
    "    # calculate angle of left and right body respectively\n",
    "    angle1 = calculate_angle( (a1y, a1x), (b1y, b1x), (c1y, c1x) )\n",
    "    angle2 = calculate_angle( (a2y, a2x), (b2y, b2x), (c2y, c2x) )\n",
    "\n",
    "    # return the midpoint of two angle\n",
    "    return (angle1 + angle2) / 2\n",
    "    "
   ]
  },
  {
   "cell_type": "code",
   "execution_count": 103,
   "id": "becedb3d-7006-4689-949e-208000f57746",
   "metadata": {},
   "outputs": [],
   "source": [
    "hip_angle = calculate_hip_joint_angle(points)\n",
    "knee_angle = 0\n",
    "print(hip_angle)"
   ]
  },
  {
   "cell_type": "markdown",
   "id": "757b3e10-58c1-4b9c-8736-e53d7cd47d3b",
   "metadata": {},
   "outputs": [],
   "source": [
    "### Show the hip angle in the picture"
   ]
  },
  {
   "cell_type": "code",
   "execution_count": 104,
   "id": "9fdcd0d0-e900-45e8-9825-14c1a3b257e5",
   "metadata": {},
   "outputs": [],
   "source": [
    "def annotate_and_show(image, points):\n",
    "\n",
    "    height, width, _ = image.shape\n",
    "    \n",
    "    plt.imshow(image /255.0)\n",
    "    \n",
    "    for side in sides:\n",
    "        for body_part in body_parts:            \n",
    "            absolute_x = points[side][body_part][1] * width\n",
    "            absolute_y = points[side][body_part][0] * height\n",
    "            # print(f\"{side}_{body_part}, x = {absolute_x} , y = {absolute_y}\")\n",
    "            if side == \"left\":\n",
    "                plt.plot(absolute_x, absolute_y, 'bo')\n",
    "\n",
    "                if body_part == \"hip\":\n",
    "                    plt.text(absolute_x, absolute_y, hip_angle, fontsize=12, color='red')\n",
    "                \n",
    "            else:\n",
    "                plt.plot(absolute_x, absolute_y, 'ro')\n",
    "    \n",
    "    plt.show()\n",
    "\n",
    "\n",
    "annotate_and_show(movenet_image[0], points)"
   ]
  },
  {
   "cell_type": "markdown",
   "id": "d60391c8-6f54-4557-8aaf-0e148fd16769",
   "metadata": {},
   "outputs": [],
   "source": [
    "## Calculate the knee angle (Angle BCD)\n",
    "\n",
    "<img src=\"../resource/calculating_angles_overview.png\" width=300/>"
   ]
  },
  {
   "cell_type": "markdown",
   "id": "0a76c432-181e-4eb6-80d1-b4d155db80ab",
   "metadata": {},
   "outputs": [],
   "source": [
    "### Exercise #1\n",
    "\n",
    "Refer to the `calculate_hip_joint_angle` above, modify the program below to calculate the knee angle"
   ]
  },
  {
   "cell_type": "code",
   "execution_count": 105,
   "id": "d40d086a-f05d-4c0b-8df7-97280282c9b5",
   "metadata": {},
   "outputs": [],
   "source": [
    "def calculate_knee_joint_angle(points, keypoint_threshold = 0.2): \n",
    "    # get the position of keypoints from MoveNet output\n",
    "    a1y, a1x, a1s = points['left']['shoulder']\n",
    "    a2y, a2x, a2s = points['right']['shoulder']\n",
    "    b1y, b1x, b1s = points['left']['hip']\n",
    "    b2y, b2x, b2s = points['right']['hip']\n",
    "    c1y, c1x, c1s = points['left']['knee']\n",
    "    c2y, c2x, c2s = points['right']['knee']\n",
    "\n",
    "    # calculate angle of left and right body respectively\n",
    "    angle1 = calculate_angle( (a1y, a1x), (b1y, b1x), (c1y, c1x) )\n",
    "    angle2 = calculate_angle( (a2y, a2x), (b2y, b2x), (c2y, c2x) )\n",
    "\n",
    "    # return the midpoint of two angle\n",
    "    return (angle1 + angle2) / 2\n",
    "    "
   ]
  },
  {
   "cell_type": "code",
   "execution_count": 106,
   "id": "6a78f263-bb2f-49f8-9407-49c88cb4e6b0",
   "metadata": {},
   "outputs": [],
   "source": [
    "knee_angle = calculate_knee_joint_angle(points)\n",
    "print(knee_angle)"
   ]
  },
  {
   "cell_type": "markdown",
   "id": "1ec83aac-0871-4287-ba14-92083d193542",
   "metadata": {
    "jp-MarkdownHeadingCollapsed": true
   },
   "outputs": [],
   "source": [
    "#### Answer"
   ]
  },
  {
   "cell_type": "code",
   "execution_count": 107,
   "id": "fc38449e-8ab4-4816-89b7-30b3434a19a1",
   "metadata": {},
   "outputs": [],
   "source": [
    "def calculate_knee_joint_angle(points, keypoint_threshold = 0.2): \n",
    "    \n",
    "    # points = points[0][0]\n",
    "    \n",
    "    # get the position of keypoints from MoveNet output\n",
    "    a1y, a1x, a1s = points['left']['hip']\n",
    "    a2y, a2x, a2s = points['right']['hip']\n",
    "    b1y, b1x, b1s = points['left']['knee']\n",
    "    b2y, b2x, b2s = points['right']['knee']\n",
    "    c1y, c1x, c1s = points['left']['ankle']\n",
    "    c2y, c2x, c2s = points['right']['ankle']\n",
    "\n",
    "    # calculate angle of left and right body respectively\n",
    "    angle1 = calculate_angle( (a1y, a1x), (b1y, b1x), (c1y, c1x) )\n",
    "    angle2 = calculate_angle( (a2y, a2x), (b2y, b2x), (c2y, c2x) )\n",
    "\n",
    "    # return the midpoint of two angle\n",
    "    return (angle1 + angle2) / 2\n",
    "    "
   ]
  },
  {
   "cell_type": "code",
   "execution_count": 108,
   "id": "c1ec938b-8745-45b7-8048-4e9c0c7c2a14",
   "metadata": {},
   "outputs": [],
   "source": [
    "knee_angle = calculate_knee_joint_angle(points)\n",
    "print(knee_angle)"
   ]
  },
  {
   "cell_type": "markdown",
   "id": "d007a6bf-6d4e-45fc-a800-91e8512296ff",
   "metadata": {},
   "outputs": [],
   "source": [
    "### Exercise 2: Show knee angle in the image"
   ]
  },
  {
   "cell_type": "code",
   "execution_count": 110,
   "id": "c0400f27-2a8b-4bf4-a2a1-030528e918d1",
   "metadata": {},
   "outputs": [],
   "source": [
    "def annotate_and_show(image, points):\n",
    "\n",
    "    height, width, _ = image.shape\n",
    "    \n",
    "    plt.imshow(image /255.0)\n",
    "    \n",
    "    for side in sides:\n",
    "        for body_part in body_parts:            \n",
    "            absolute_x = points[side][body_part][1] * width\n",
    "            absolute_y = points[side][body_part][0] * height\n",
    "            # print(f\"{side}_{body_part}, x = {absolute_x} , y = {absolute_y}\")\n",
    "            if side == \"left\":\n",
    "                plt.plot(absolute_x, absolute_y, 'bo')\n",
    "\n",
    "                if body_part == \"hip\":\n",
    "                    plt.text(absolute_x, absolute_y, hip_angle, fontsize=12, color='red')\n",
    "                \n",
    "            else:\n",
    "                plt.plot(absolute_x, absolute_y, 'ro')\n",
    "    \n",
    "    plt.show()\n",
    "\n",
    "\n",
    "annotate_and_show(movenet_image[0], points)"
   ]
  },
  {
   "cell_type": "markdown",
   "id": "d5925f8d-6631-49a8-bcdd-69da8921adda",
   "metadata": {
    "jp-MarkdownHeadingCollapsed": true
   },
   "outputs": [],
   "source": [
    "#### Answer"
   ]
  },
  {
   "cell_type": "code",
   "execution_count": 111,
   "id": "24842d72-62b8-4445-a0c3-50404a9ef405",
   "metadata": {},
   "outputs": [],
   "source": [
    "def annotate_and_show(image, points):\n",
    "\n",
    "    height, width, _ = image.shape\n",
    "    \n",
    "    plt.imshow(image /255.0)\n",
    "    \n",
    "    for side in sides:\n",
    "        for body_part in body_parts:            \n",
    "            absolute_x = points[side][body_part][1] * width\n",
    "            absolute_y = points[side][body_part][0] * height\n",
    "            # print(f\"{side}_{body_part}, x = {absolute_x} , y = {absolute_y}\")\n",
    "            if side == \"left\":\n",
    "                plt.plot(absolute_x, absolute_y, 'bo')\n",
    "\n",
    "                if body_part == \"hip\":\n",
    "                    plt.text(absolute_x, absolute_y, hip_angle, fontsize=12, color='red')    \n",
    "\n",
    "                if body_part == \"knee\":\n",
    "                    plt.text(absolute_x, absolute_y, knee_angle, fontsize=12, color='red')    \n",
    "\n",
    "            else:\n",
    "                plt.plot(absolute_x, absolute_y, 'ro')\n",
    "    \n",
    "    plt.show()\n",
    "\n",
    "\n",
    "annotate_and_show(movenet_image[0], points)"
   ]
  },
  {
   "cell_type": "markdown",
   "id": "5cccca4b-bbac-4aa2-9743-ad73c8337fcd",
   "metadata": {},
   "outputs": [],
   "source": [
    "<hr/>"
   ]
  },
  {
   "cell_type": "markdown",
   "id": "3b376544-2517-4b95-913f-ce6f522ce5bf",
   "metadata": {},
   "outputs": [],
   "source": [
    "## Congratulation! You have finished this chapter."
   ]
  },
  {
   "cell_type": "markdown",
   "id": "d63a5467-8b99-4112-a85f-8c63a83d575a",
   "metadata": {},
   "outputs": [],
   "source": [
    "This jupyter notebook is created by 10Botics. <br>\n",
    "For permission to use in school, please contact info@10botics.com <br>\n",
    "All rights reserved. 2024."
   ]
  }
 ],
 "metadata": {
  "kernelspec": {
   "display_name": "Python 3 (ipykernel)",
   "language": "python",
   "name": "python3"
  },
  "language_info": {
   "codemirror_mode": {
    "name": "ipython",
    "version": 3
   },
   "file_extension": ".py",
   "mimetype": "text/x-python",
   "name": "python",
   "nbconvert_exporter": "python",
   "pygments_lexer": "ipython3",
   "version": "3.9.19"
  }
 },
 "nbformat": 4,
 "nbformat_minor": 5
}
