{
 "cells": [
  {
   "cell_type": "markdown",
   "id": "83e130cd-45c6-4561-a3a4-ee596d311fdc",
   "metadata": {},
   "source": [
    "# Playing with images"
   ]
  },
  {
   "cell_type": "markdown",
   "id": "e5d79862-eecb-49cd-80d2-e8f92a298b18",
   "metadata": {},
   "source": [
    "In this lesson, you will learn:\n",
    "\n",
    "1. Import the tensorflow libraries\n",
    "2. Download a pose detection model - movenet\n",
    "3. Load a sample image\n",
    "4. Resize the sample image\n",
    "5. Run the model\n",
    "6. Draw detected keypoints on the image"
   ]
  },
  {
   "cell_type": "markdown",
   "id": "21163555-e921-497e-875d-e7df515a9046",
   "metadata": {},
   "source": [
    "## Load a sample image"
   ]
  },
  {
   "cell_type": "markdown",
   "id": "b3301f10-5bc6-415a-95a0-2a45743de5fa",
   "metadata": {},
   "source": [
    "### Define a function"
   ]
  },
  {
   "cell_type": "code",
   "execution_count": null,
   "id": "dc99567f-d99f-4cf3-8023-b2f5bb62a80d",
   "metadata": {},
   "outputs": [],
   "source": [
    "from matplotlib import pyplot as plt\n",
    "import matplotlib.image as mpimg\n",
    "\n",
    "def load_and_show_image(image_path):\n",
    "    \n",
    "    img = mpimg.imread(image_path)\n",
    "    imgplot = plt.imshow(img)\n",
    "    plt.show()"
   ]
  },
  {
   "cell_type": "markdown",
   "id": "bb6329d2-c5b2-496c-8a15-6408055568cb",
   "metadata": {},
   "source": [
    "### Call the function"
   ]
  },
  {
   "cell_type": "code",
   "execution_count": null,
   "id": "0a6d37ec-e9ba-4c05-a09b-9760f2f2b7f7",
   "metadata": {},
   "outputs": [],
   "source": [
    "# Provide a path to load and show the image\n",
    "image_path = \"resource/input_image2.jpeg\" \n",
    "\n",
    "load_and_show_image(image_path)"
   ]
  },
  {
   "cell_type": "markdown",
   "id": "883943db-8fcf-4d0b-9768-529511d0d5ca",
   "metadata": {},
   "source": [
    "### Exercise 1 - Display another image\n",
    "\n",
    "There is another image called `input_image3.jpeg` under the folder `resource`, try to update the `image_path` variable and display it"
   ]
  },
  {
   "cell_type": "code",
   "execution_count": null,
   "id": "b83ef7ef-f495-430d-959b-1943fff8c1f8",
   "metadata": {},
   "outputs": [],
   "source": [
    "image_path = \"resource/input_image2.jpeg\" \n",
    "\n",
    "load_and_show_image(image_path)"
   ]
  },
  {
   "cell_type": "markdown",
   "id": "5ea20372-b786-42d1-8d89-fe53dc4c1f90",
   "metadata": {},
   "source": [
    "## Upload a new image"
   ]
  },
  {
   "cell_type": "markdown",
   "id": "2d79e7df-524d-4d51-99ea-5d0ea76ad7c8",
   "metadata": {},
   "source": [
    "### Exercise 2 - Upload a new image\n",
    "\n",
    "1. Find another image on the internet\n",
    "2. Upload it under the resource folder\n",
    "3. Use the function `load_and_show_image` to display it "
   ]
  },
  {
   "cell_type": "code",
   "execution_count": null,
   "id": "f15e95da-ceda-42b3-89bc-03f872276b93",
   "metadata": {},
   "outputs": [],
   "source": [
    "image_path = \"resource/input_image4.jpeg\" \n",
    "\n",
    "load_and_show_image(image_path)"
   ]
  },
  {
   "cell_type": "markdown",
   "id": "f7e0e396-c616-4f59-b4ae-c82bfa5ee4af",
   "metadata": {},
   "source": [
    "## Understand RGB"
   ]
  },
  {
   "cell_type": "markdown",
   "id": "543b6158-9c77-4efd-9793-0a553c97b4b9",
   "metadata": {},
   "source": [
    "### Create a black image"
   ]
  },
  {
   "cell_type": "code",
   "execution_count": 38,
   "id": "d348b59f-fd28-4bea-b293-e909ed8cad6b",
   "metadata": {},
   "outputs": [
    {
     "data": {
      "image/png": "[encoded data removed]",
      "text/plain": [
       "<Figure size 300x300 with 1 Axes>"
      ]
     },
     "metadata": {},
     "output_type": "display_data"
    }
   ],
   "source": [
    "# Define the dimensions of each color strip\n",
    "height = 90\n",
    "width = 90\n",
    "\n",
    "# Create an empty image of the required size with 3 layers for RGB\n",
    "image = np.zeros((height , width, 3), dtype=np.uint8)\n",
    "\n",
    "# Display the image using matplotlib\n",
    "plt.figure(figsize=(3, 3))\n",
    "plt.imshow(image)\n",
    "plt.show()"
   ]
  },
  {
   "cell_type": "markdown",
   "id": "8f49c934-35ed-4e3d-99e3-d8f6dc5429c1",
   "metadata": {},
   "source": [
    "### Exercise 3: Create a white image\n",
    "\n",
    "Modify the code below to display a white image\n",
    "\n",
    "<img src=\"./resource/playing_image_white.png\" width=300/>"
   ]
  },
  {
   "cell_type": "code",
   "execution_count": null,
   "id": "ccb5158c-8f2d-4c38-a8eb-017115d22a11",
   "metadata": {},
   "outputs": [],
   "source": [
    "# Define the dimensions of each color strip\n",
    "height = 90\n",
    "width = 90\n",
    "\n",
    "# Create an empty image of the required size with 3 layers for RGB\n",
    "image = np.zeros((height , width, 3), dtype=np.uint8)\n",
    "\n",
    "for x in range(height):\n",
    "    for y in range(width):\n",
    "        for z in range(3):\n",
    "            image[x][y][z] = 0\n",
    "\n",
    "# Display the image using matplotlib\n",
    "plt.figure(figsize=(3, 3))\n",
    "plt.imshow(image)\n",
    "plt.show()"
   ]
  },
  {
   "cell_type": "markdown",
   "id": "580b0de1-56bd-45be-a1d6-fb1f63629d00",
   "metadata": {},
   "source": [
    "#### Answer"
   ]
  },
  {
   "cell_type": "code",
   "execution_count": null,
   "id": "5e2a999d-5c8c-4cf8-b510-15bc0a2ca5ee",
   "metadata": {},
   "outputs": [],
   "source": [
    "# Define the dimensions of each color strip\n",
    "height = 90\n",
    "width = 90\n",
    "\n",
    "# Create an empty image of the required size with 3 layers for RGB\n",
    "image = np.zeros((height , width, 3), dtype=np.uint8)\n",
    "\n",
    "for x in range(height):\n",
    "    for y in range(width):\n",
    "        for z in range(3):\n",
    "            image[x][y][z] = 255\n",
    "\n",
    "# image[:,:,:] =255\n",
    "\n",
    "# Display the image using matplotlib\n",
    "plt.figure(figsize=(3, 3))\n",
    "plt.imshow(image)\n",
    "plt.show()"
   ]
  },
  {
   "cell_type": "markdown",
   "id": "60177463-9b73-470e-8143-84edc3e0c35d",
   "metadata": {},
   "source": [
    "### Magic Numpy Array Operation"
   ]
  },
  {
   "cell_type": "code",
   "execution_count": null,
   "id": "169c204e-2a66-4127-93d5-3b4eb21b00af",
   "metadata": {},
   "outputs": [],
   "source": [
    "image[:,:,:] = 150\n",
    "\n",
    "\n",
    "# Display the image using matplotlib\n",
    "plt.figure(figsize=(3, 3))\n",
    "plt.imshow(image)\n",
    "plt.show()"
   ]
  },
  {
   "cell_type": "markdown",
   "id": "d32b9383-c52a-46b4-9643-3aea6f2025f4",
   "metadata": {},
   "source": [
    "### Exercise 4: Create a red image\n",
    "\n",
    "Modify the code below to display a red image\n",
    "\n",
    "<img src=\"./resource/playing_image_red.png\" width=300/>"
   ]
  },
  {
   "cell_type": "code",
   "execution_count": null,
   "id": "84e0df13-9e1f-4511-9d85-956de09b6338",
   "metadata": {},
   "outputs": [],
   "source": [
    "# Define the dimensions\n",
    "height = 255\n",
    "width = 255\n",
    "\n",
    "# Create an empty image of the required size with 3 layers for RGB\n",
    "image = np.zeros((height , width, 3), dtype=np.uint8)\n",
    "\n",
    "# image[:,:,:] =255\n",
    "\n",
    "# Display the image using matplotlib\n",
    "plt.figure(figsize=(3, 3))\n",
    "plt.imshow(image)\n",
    "# plt.axis('off')  # Turn off axis numbers and ticks\n",
    "plt.show()"
   ]
  },
  {
   "cell_type": "markdown",
   "id": "03608605-22b7-46f0-bea3-2e7306301148",
   "metadata": {},
   "source": [
    "#### Answer"
   ]
  },
  {
   "cell_type": "code",
   "execution_count": null,
   "id": "333e50cc-40e1-4780-9762-0e55256c7c60",
   "metadata": {},
   "outputs": [],
   "source": [
    "# Define the dimensions\n",
    "height = 255\n",
    "width = 255\n",
    "\n",
    "# Create an empty image of the required size with 3 layers for RGB\n",
    "image = np.zeros((height , width, 3), dtype=np.uint8)\n",
    "\n",
    "image[:,:,0] =255\n",
    "\n",
    "# Display the image using matplotlib\n",
    "plt.figure(figsize=(3, 3))\n",
    "plt.imshow(image)\n",
    "plt.show()"
   ]
  },
  {
   "cell_type": "code",
   "execution_count": null,
   "id": "6c8cf3e5-a57e-49bb-9caf-5cf7ea24c65c",
   "metadata": {},
   "outputs": [],
   "source": [
    "## Introducing the // operator"
   ]
  },
  {
   "cell_type": "code",
   "execution_count": null,
   "id": "ec251904-eef9-4255-a217-f60a4e55418e",
   "metadata": {},
   "outputs": [],
   "source": []
  },
  {
   "cell_type": "markdown",
   "id": "dd5b8ff4-09d9-4f1a-9e96-87e1a8a61d95",
   "metadata": {},
   "source": [
    "### Exercise 5: Create a red, green and blue strip image\n",
    "\n",
    "Modify the code below to display a red, green and blue strip image\n",
    "\n",
    "<img src=\"./resource/playing_image_strips.png\" width=300/>"
   ]
  },
  {
   "cell_type": "code",
   "execution_count": null,
   "id": "47b7472f-0c65-46a8-8d51-68fd894d83cb",
   "metadata": {},
   "outputs": [],
   "source": [
    "# Define the dimensions\n",
    "height = 90\n",
    "width = 90\n",
    "\n",
    "# Create an empty image of the required size with 3 layers for RGB\n",
    "image = np.zeros((height , width, 3), dtype=np.uint8)\n",
    "\n",
    "image[:,:,0] =255\n",
    "\n",
    "# Display the image using matplotlib\n",
    "plt.figure(figsize=(3, 3))\n",
    "plt.imshow(image)\n",
    "plt.show()"
   ]
  },
  {
   "cell_type": "markdown",
   "id": "9fda718b-4c5a-4c96-ac61-51b9d93d120b",
   "metadata": {},
   "source": [
    "#### Answer"
   ]
  },
  {
   "cell_type": "code",
   "execution_count": null,
   "id": "35e17d5d-4bc8-4adc-9ae6-f8562263d8ca",
   "metadata": {},
   "outputs": [],
   "source": [
    "# Define the dimensions\n",
    "height = 90\n",
    "width = 90\n",
    "\n",
    "# Create an empty image of the required size with 3 layers for RGB\n",
    "image = np.zeros((height , width, 3), dtype=np.uint8)\n",
    "    \n",
    "image[:height//3,:,0] = 255\n",
    "image[height//3:height//3 *2,:,1] = 255\n",
    "image[height//3 * 2: height,:,2] = 255\n",
    "\n",
    "# Display the image using matplotlib\n",
    "plt.figure(figsize=(3, 3))\n",
    "plt.imshow(image)\n",
    "plt.show()"
   ]
  },
  {
   "cell_type": "markdown",
   "id": "96b9f10d-5528-4d4f-8fed-e49d908253ce",
   "metadata": {},
   "source": [
    "### Exercise 6: Create a red gradient strip\n",
    "\n",
    "Modify the code below to display a red gradient strip\n",
    "\n",
    "Hints:\n",
    "\n",
    "1. Easy approach - Use for-loop\n",
    "\n",
    "<img src=\"./resource/playing_image_red_gradient.png\" width=300/>"
   ]
  },
  {
   "cell_type": "code",
   "execution_count": null,
   "id": "b1e98c08-d52b-4e25-b2ee-955fca93ced0",
   "metadata": {},
   "outputs": [],
   "source": [
    "# Define the dimensions\n",
    "height = 90\n",
    "width = 255\n",
    "\n",
    "# Create an empty image of the required size with 3 layers for RGB\n",
    "image = np.zeros((height , width, 3), dtype=np.uint8)\n",
    "\n",
    "# Display the image using matplotlib\n",
    "plt.figure(figsize=(3, 3))\n",
    "plt.imshow(image)\n",
    "plt.show()"
   ]
  },
  {
   "cell_type": "markdown",
   "id": "d9688bd2-cdeb-48fd-ba8d-a9301a5cf69e",
   "metadata": {},
   "source": [
    "#### Answer"
   ]
  },
  {
   "cell_type": "code",
   "execution_count": null,
   "id": "c2ecf08a-7e07-4ad2-808a-10d335199845",
   "metadata": {},
   "outputs": [],
   "source": [
    "# Define the dimensions\n",
    "height = 90\n",
    "width = 255\n",
    "\n",
    "# Create an empty image of the required size with 3 layers for RGB\n",
    "image = np.zeros((height , width, 3), dtype=np.uint8)\n",
    "\n",
    "for x in range(height):\n",
    "    for y in range(width):            \n",
    "        image[x][y][0] = y\n",
    "\n",
    "# Display the image using matplotlib\n",
    "plt.figure(figsize=(3, 3))\n",
    "plt.imshow(image)\n",
    "plt.show()"
   ]
  },
  {
   "cell_type": "markdown",
   "id": "721223d5-5b3d-4b3b-b5f9-657ce11a9176",
   "metadata": {},
   "source": [
    "### [HARD] Exercise 7: Create a red, green and blue strip image with gradient\n",
    "\n",
    "Modify the code below to display a rgb gradient strip\n",
    "\n",
    "<img src=\"./resource/playing_image_rgb_strips_gradient.png\" width=300/>"
   ]
  },
  {
   "cell_type": "code",
   "execution_count": null,
   "id": "0df53959-106d-4f5b-9a63-b6023dd5f954",
   "metadata": {},
   "outputs": [],
   "source": [
    "# Define the dimensions\n",
    "height = 90\n",
    "width = 255\n",
    "\n",
    "# Create an empty image of the required size with 3 layers for RGB\n",
    "image = np.zeros((height , width, 3), dtype=np.uint8)\n",
    "\n",
    "# Display the image using matplotlib\n",
    "plt.figure(figsize=(3, 3))\n",
    "plt.imshow(image)\n",
    "plt.show()"
   ]
  },
  {
   "cell_type": "markdown",
   "id": "e11cca4d-1893-4309-888d-26e3762f5b7a",
   "metadata": {},
   "source": [
    "#### Answer"
   ]
  },
  {
   "cell_type": "code",
   "execution_count": null,
   "id": "3fc1387d-35a4-4bf5-8459-6305545f44fd",
   "metadata": {},
   "outputs": [],
   "source": [
    "# Define the dimensions of each color strip\n",
    "height = 90\n",
    "width = 255\n",
    "\n",
    "# Create an empty image of the required size with 3 layers for RGB\n",
    "image = np.zeros((height , width, 3), dtype=np.uint8)\n",
    "\n",
    "for i in range(1,4):\n",
    "    for x in range(height //3 * (i-1), height // 3 * i):\n",
    "        for y in range(width):\n",
    "            image[x][y][i-1] = y\n",
    "\n",
    "# Display the image using matplotlib\n",
    "plt.figure(figsize=(3, 3))\n",
    "plt.imshow(image)\n",
    "plt.show()"
   ]
  },
  {
   "cell_type": "markdown",
   "id": "66a9ac4e-2f9f-4af8-af2e-268c4ac2cde9",
   "metadata": {},
   "source": [
    "### [HARD] Exercise 8: Create a REVERSE red, green and blue strip image with gradient\n",
    "\n",
    "Modify the code below to display a rgb gradient strip\n",
    "\n",
    "<img src=\"./resource/playing_image_rgb_strips_gradient_reverse.png\" width=300/>\n"
   ]
  },
  {
   "cell_type": "code",
   "execution_count": null,
   "id": "a07db80c-2977-4572-ae6b-2f32852e856c",
   "metadata": {},
   "outputs": [],
   "source": [
    "# Define the dimensions\n",
    "height = 90\n",
    "width = 255\n",
    "\n",
    "# Create an empty image of the required size with 3 layers for RGB\n",
    "image = np.zeros((height , width, 3), dtype=np.uint8)\n",
    "\n",
    "for i in range(1,4):\n",
    "    for x in range(height //3 * (i-1), height // 3 * i):\n",
    "        for y in range(width):\n",
    "            image[x][y][i-1] = y\n",
    "\n",
    "# Display the image using matplotlib\n",
    "plt.figure(figsize=(3, 3))\n",
    "plt.imshow(image)\n",
    "plt.show()"
   ]
  },
  {
   "cell_type": "markdown",
   "id": "7f5ef722-fc55-4558-a88d-5f6b31b35820",
   "metadata": {},
   "source": [
    "#### Answer"
   ]
  },
  {
   "cell_type": "code",
   "execution_count": null,
   "id": "9216b2a4-64aa-439f-9b8c-3ce50eed29ea",
   "metadata": {},
   "outputs": [],
   "source": [
    "# Define the dimensions\n",
    "height = 90\n",
    "width = 255\n",
    "\n",
    "# Create an empty image of the required size with 3 layers for RGB\n",
    "image = np.zeros((height , width, 3), dtype=np.uint8)\n",
    "\n",
    "for i in range(1,4):\n",
    "    for x in range(height //3 * (i-1), height // 3 * i):\n",
    "        for y in range(width):\n",
    "            image[x][y][i-1] = 255 - y\n",
    "\n",
    "# Display the image using matplotlib\n",
    "plt.figure(figsize=(3, 3))\n",
    "plt.imshow(image)\n",
    "plt.show()"
   ]
  }
 ],
 "metadata": {
  "kernelspec": {
   "display_name": "Python 3 (ipykernel)",
   "language": "python",
   "name": "python3"
  },
  "language_info": {
   "codemirror_mode": {
    "name": "ipython",
    "version": 3
   },
   "file_extension": ".py",
   "mimetype": "text/x-python",
   "name": "python",
   "nbconvert_exporter": "python",
   "pygments_lexer": "ipython3",
   "version": "3.9.19"
  }
 },
 "nbformat": 4,
 "nbformat_minor": 5
}
