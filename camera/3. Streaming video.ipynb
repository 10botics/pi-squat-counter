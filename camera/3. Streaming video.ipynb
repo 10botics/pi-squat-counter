{
 "cells": [
  {
   "cell_type": "markdown",
   "id": "ae57605c-ef1b-4dcf-b3da-a355c6767485",
   "metadata": {},
   "source": [
    "# Streaming camera feed"
   ]
  },
  {
   "cell_type": "markdown",
   "id": "268a17bb-04b6-4448-9aa5-7286fe15c9a8",
   "metadata": {},
   "source": [
    "In this lesson, you will learn:\n",
    "\n",
    "1. Use a for loop to display multiple images\n",
    "2. Inline streaming\n",
    "3. Write an endless loop to perform non-stop streaming\n",
    "4. Add a button to stop the camera feed"
   ]
  },
  {
   "cell_type": "markdown",
   "id": "c328984d-df38-4da8-981a-099b6f1347e1",
   "metadata": {},
   "source": [
    "## Stream the camera feed in jupyter lab\n",
    "\n",
    "To stream the camera feed, we simply use a loop to display the image captured by the camera. <br>\n",
    "Let's try to write a simple for loop"
   ]
  },
  {
   "cell_type": "code",
   "execution_count": null,
   "id": "ad756949-ff8a-44dd-b99e-ff6b52da91a7",
   "metadata": {},
   "outputs": [],
   "source": [
    "for i in range(10):\n",
    "    print(i)"
   ]
  },
  {
   "cell_type": "markdown",
   "id": "5b092bf7-4d86-4401-b57a-c84b1c8e2cd2",
   "metadata": {},
   "source": [
    "Similarly, we use a for loop to capture 10 images and display them"
   ]
  },
  {
   "cell_type": "code",
   "execution_count": null,
   "id": "1159adda-bfa2-496a-8ae4-b18b4fb06503",
   "metadata": {},
   "outputs": [],
   "source": [
    "## Import libaries and functions\n",
    "\n",
    "%run Common_functions.ipynb"
   ]
  },
  {
   "cell_type": "code",
   "execution_count": null,
   "id": "17fa9415-9631-4314-ad42-f7c79dedcc0e",
   "metadata": {},
   "outputs": [],
   "source": [
    "cap = cv2.VideoCapture(0)\n",
    "setCaptureProperties(cap, 160,120,30)\n",
    "\n",
    "for i in range(10):\n",
    "    ret, frame = cap.read()\n",
    "    \n",
    "    if ret:\n",
    "        frame = cv2.flip(frame, 0)\n",
    "        _, frame = cv2.imencode('.jpeg', frame)\n",
    "        display(Image(data=frame.tobytes()))\n",
    "    else:\n",
    "        print(\"failed\")\n",
    "\n",
    "# Release the webcam\n",
    "cap.release()"
   ]
  },
  {
   "cell_type": "markdown",
   "id": "bd8569e2-5184-40a5-b838-94d5efea2aa9",
   "metadata": {},
   "source": [
    "### Discussion\n",
    "- What is the problem of the above output?\n",
    "- Does it look like a video?\n",
    "- If not, how should a video look like?\n",
    "\n"
   ]
  },
  {
   "cell_type": "markdown",
   "id": "c54dfe27-ee18-43c4-8d6e-7a5a7bf51a68",
   "metadata": {},
   "source": [
    "## Inline streaming"
   ]
  },
  {
   "cell_type": "markdown",
   "id": "6b226624-f9ec-4b94-ab5c-a244f0519345",
   "metadata": {},
   "source": [
    "- We can used a `update` method of a `display` object to update the image we read from the camera. The result looks much more like a video feed.\n",
    "- We have increased the loop from 10 to 100. Feel free to change it to a bigger number. "
   ]
  },
  {
   "cell_type": "code",
   "execution_count": null,
   "id": "20845c35-049d-4de0-bea7-425735f41e43",
   "metadata": {},
   "outputs": [],
   "source": [
    "cap = cv2.VideoCapture(0)\n",
    "setCaptureProperties(cap, 160,120,30)\n",
    "display_handle=display(None, display_id=True)\n",
    "\n",
    "\n",
    "for i in range(100):\n",
    "    ret, frame = cap.read()\n",
    "    \n",
    "    if ret:\n",
    "        frame = cv2.flip(frame, 0)\n",
    "        _, frame = cv2.imencode('.jpeg', frame)\n",
    "        display_handle.update(Image(data=frame.tobytes()))\n",
    "    else:\n",
    "        print(\"failed\")\n",
    "\n",
    "# Release the webcam\n",
    "cap.release()\n",
    "print(\"finished\")"
   ]
  },
  {
   "cell_type": "markdown",
   "id": "37de9e84-64a1-4a59-9663-094f658da0e3",
   "metadata": {},
   "source": [
    "## Write an endless loop to perform non-stop streaming"
   ]
  },
  {
   "cell_type": "markdown",
   "id": "380d37ce-3754-4af6-9059-057538cac9d6",
   "metadata": {},
   "source": [
    "You can write a program that never stop running as easy as below. But if you do so, you need to use the `stop`(1) or `restart kernel`(2) button to stop the program from running. \n",
    "\n",
    "![stop/restart](./resource/stop_restart.png)"
   ]
  },
  {
   "cell_type": "markdown",
   "id": "0417f13a-9861-4a46-9bee-1ecd3b99cc08",
   "metadata": {},
   "source": [
    "- When you start running the cell below, the numbering on the left hand side will show a `[*]`. It means the programming is running.\n",
    "- I have add a timer to sleep so that the program would not fill up our screen with hello\n",
    "- Make sure you know how to stop the program before running the cell below\n",
    "- When you stop it, it will show an error and it is normal\n",
    "- Now try to run the program and press stop(1)"
   ]
  },
  {
   "cell_type": "code",
   "execution_count": null,
   "id": "e793a859-b776-4b7b-9443-d0672df262fc",
   "metadata": {},
   "outputs": [],
   "source": [
    "import time\n",
    "\n",
    "while True:\n",
    "    print(\"hello\")\n",
    "    time.sleep(1)"
   ]
  },
  {
   "cell_type": "markdown",
   "id": "7dbf88b1-a751-462d-be1e-1b50cf303360",
   "metadata": {},
   "source": [
    "### Non-stop streaming"
   ]
  },
  {
   "cell_type": "markdown",
   "id": "408abd15-0433-4ca3-a207-4c2a658bb0f3",
   "metadata": {},
   "source": [
    "The program below will not stop until you hit the stop button"
   ]
  },
  {
   "cell_type": "code",
   "execution_count": null,
   "id": "eb2344ec-6fde-4201-b276-e24f02471598",
   "metadata": {},
   "outputs": [],
   "source": [
    "cap = cv2.VideoCapture(0)\n",
    "setCaptureProperties(cap, 160,120,30)\n",
    "display_handle=display(None, display_id=True)\n",
    "\n",
    "while True:\n",
    "    try: \n",
    "        ret, frame = cap.read()\n",
    "        \n",
    "        if ret:\n",
    "            frame = cv2.flip(frame, 0)\n",
    "            _, frame = cv2.imencode('.jpeg', frame)\n",
    "            display_handle.update(Image(data=frame.tobytes()))\n",
    "    except:\n",
    "        cap.release() # Release the webcam\n",
    "        break\n",
    "\n",
    "print(\"finished\")"
   ]
  },
  {
   "cell_type": "markdown",
   "id": "27322113-6476-4bd0-8ad3-99b720c57bab",
   "metadata": {},
   "source": [
    "## Add a button to stop the camera feed"
   ]
  },
  {
   "cell_type": "markdown",
   "id": "b403e148-e298-473e-9458-dba76fddb35d",
   "metadata": {},
   "source": [
    "To make it more user friendly, let's add a stop button below the cell to stop the program"
   ]
  },
  {
   "cell_type": "code",
   "execution_count": null,
   "id": "b8e39713-3383-44c8-923a-5845803ac449",
   "metadata": {},
   "outputs": [],
   "source": [
    "def createStopButton():\n",
    "    import ipywidgets as widgets\n",
    "    return widgets.ToggleButton(\n",
    "        value=False,\n",
    "        description='Stop',\n",
    "        disabled=False,\n",
    "        button_style='danger', # 'success', 'info', 'warning', 'danger' or ''\n",
    "        tooltip='Description',\n",
    "        icon='square' # (FontAwesome names without the `fa-` prefix)\n",
    "    )"
   ]
  },
  {
   "cell_type": "code",
   "execution_count": null,
   "id": "a0c1a418-10c8-4c75-9bfd-2931f74219c6",
   "metadata": {
    "tags": []
   },
   "outputs": [],
   "source": [
    "def view(button):\n",
    "    cap = cv2.VideoCapture(0)\n",
    "    \n",
    "    setCaptureProperties(cap, 640, 480, 30)\n",
    "\n",
    "    display_handle=display(None, display_id=True)\n",
    "    i = 0\n",
    "    while True:\n",
    "        ret, frame = cap.read()\n",
    "    \n",
    "        if ret:\n",
    "            frame = cv2.flip(frame, 0)\n",
    "            _, frame = cv2.imencode('.jpeg', frame)\n",
    "            display_handle.update(Image(data=frame.tobytes()))\n",
    "\n",
    "        if stopButton.value==True:\n",
    "            cap.release()\n",
    "            display_handle.update(None)\n",
    "\n",
    "            \n",
    "# Run\n",
    "# ================\n",
    "stopButton = createStopButton()\n",
    "display(stopButton)\n",
    "thread = threading.Thread(target=view, args=(stopButton,))\n",
    "thread.start()"
   ]
  }
 ],
 "metadata": {
  "kernelspec": {
   "display_name": "Python 3 (ipykernel)",
   "language": "python",
   "name": "python3"
  },
  "language_info": {
   "codemirror_mode": {
    "name": "ipython",
    "version": 3
   },
   "file_extension": ".py",
   "mimetype": "text/x-python",
   "name": "python",
   "nbconvert_exporter": "python",
   "pygments_lexer": "ipython3",
   "version": "3.9.2"
  }
 },
 "nbformat": 4,
 "nbformat_minor": 5
}
