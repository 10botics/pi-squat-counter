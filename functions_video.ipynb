{
 "cells": [
  {
   "cell_type": "markdown",
   "id": "8513baff-cafb-4967-87cf-7f9f03072744",
   "metadata": {},
   "outputs": [],
   "source": [
    "<img src=\"https://10botics.com/logo_jnb.png\" width=\"300\"/>"
   ]
  },
  {
   "cell_type": "code",
   "execution_count": null,
   "id": "8a1bfa0a-4ae5-4169-99d9-9870bb86cdb5",
   "metadata": {},
   "outputs": [],
   "source": []
  },
  {
   "cell_type": "code",
   "execution_count": null,
   "id": "3b7a2c27-dccf-4459-be66-58a47002050d",
   "metadata": {},
   "outputs": [],
   "source": [
    "# ===Defined IPython widget: stopButton===\n",
    "from IPython.display import display, Image\n",
    "import IPython\n",
    "import ipywidgets as widgets\n",
    "import threading\n",
    "\n",
    "stopButton = widgets.ToggleButton(\n",
    "    value=False,\n",
    "    description='Stop',\n",
    "    disabled=False,\n",
    "    button_style='danger', # 'success', 'info', 'warning', 'danger' or ''\n",
    "    tooltip='Description',\n",
    "    icon='square' # (FontAwesome names without the `fa-` prefix)\n",
    ")"
   ]
  },
  {
   "cell_type": "code",
   "execution_count": null,
   "id": "3a427e68-f920-4481-96ae-f7120421b5f5",
   "metadata": {},
   "outputs": [],
   "source": [
    "import time\n",
    "import cv2 \n",
    "\n",
    "# Display function\n",
    "# ================\n",
    "def view( button, source=0, rotate=0, process=(lambda x:x), fps=10 ):\n",
    "    \"\"\"\n",
    "    Args:\n",
    "    button: An IPywidget button to control the function. The display stops if button.value == True.\n",
    "    Source: An optional integer or filename to specify the source of the video stream.\n",
    "    Rotate: optional integer. Set to 0 by default (not rotated). Set to 1 will rotate by 90 deg.\n",
    "    process: optional function that processes each frame through process(frame) before displaying.\n",
    "        Set to identity function by default.\n",
    "    \"\"\"\n",
    "    display_handle=display(\"Please wait...\", display_id=True)\n",
    "    \n",
    "    cap = cv2.VideoCapture(source)\n",
    "    cap.set(cv2.CAP_PROP_FPS, fps)\n",
    "    cap.set(cv2.CAP_PROP_FRAME_WIDTH, 320)\n",
    "    cap.set(cv2.CAP_PROP_FRAME_HEIGHT, 240)\n",
    "\n",
    "    delay = 1 / fps\n",
    "    \n",
    "    while True:\n",
    "        ret, frame = cap.read()\n",
    "        if button.value==True or not ret:\n",
    "            cap.release()\n",
    "            display_handle.update(None)\n",
    "            button.value = False\n",
    "            break\n",
    "        # frame = cv2.flip(frame, 1) # if your camera reverses your image\n",
    "\n",
    "        # Rotate the frame if rotate==1\n",
    "        if rotate:\n",
    "            # frame = cv2.transpose(frame)\n",
    "            frame = cv2.flip(frame, 0)\n",
    "        \n",
    "        frame = process(frame)\n",
    "        \n",
    "        _, frame = cv2.imencode('.jpeg', frame)\n",
    "        display_handle.update(Image(data=frame.tobytes()))\n",
    "        time.sleep(delay)"
   ]
  },
  {
   "cell_type": "markdown",
   "id": "5cccca4b-bbac-4aa2-9743-ad73c8337fcd",
   "metadata": {},
   "outputs": [],
   "source": [
    "<hr/>"
   ]
  },
  {
   "cell_type": "markdown",
   "id": "3b376544-2517-4b95-913f-ce6f522ce5bf",
   "metadata": {},
   "outputs": [],
   "source": [
    "## Congratulation! You have finished this chapter."
   ]
  },
  {
   "cell_type": "markdown",
   "id": "d63a5467-8b99-4112-a85f-8c63a83d575a",
   "metadata": {},
   "outputs": [],
   "source": [
    "This jupyter notebook is created by 10Botics. <br>\n",
    "For permission to use in school, please contact info@10botics.com <br>\n",
    "All rights reserved. 2024."
   ]
  }
 ],
 "metadata": {
  "kernelspec": {
   "display_name": "Python 3 (ipykernel)",
   "language": "python",
   "name": "python3"
  },
  "language_info": {
   "codemirror_mode": {
    "name": "ipython",
    "version": 3
   },
   "file_extension": ".py",
   "mimetype": "text/x-python",
   "name": "python",
   "nbconvert_exporter": "python",
   "pygments_lexer": "ipython3",
   "version": "3.9.19"
  }
 },
 "nbformat": 4,
 "nbformat_minor": 5
}
