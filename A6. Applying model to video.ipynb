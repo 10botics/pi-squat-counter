{
 "cells": [
  {
   "cell_type": "markdown",
   "id": "8513baff-cafb-4967-87cf-7f9f03072744",
   "metadata": {},
   "outputs": [],
   "source": [
    "<img src=\"https://10botics.com/logo_jnb.png\" width=\"300\"/>"
   ]
  },
  {
   "cell_type": "markdown",
   "id": "1aa236a0-7fe7-46f7-a433-ff75cd15d61a",
   "metadata": {},
   "outputs": [],
   "source": [
    "# Applying model to a video"
   ]
  },
  {
   "cell_type": "markdown",
   "id": "d9d6f8c5-1652-4df5-ba92-7d48f3ae0c5a",
   "metadata": {},
   "outputs": [],
   "source": [
    "## Include libraries and functions"
   ]
  },
  {
   "cell_type": "code",
   "execution_count": null,
   "id": "0e9227bc-f249-4da6-91ff-11719c68c8fa",
   "metadata": {},
   "outputs": [],
   "source": [
    "%run Squat_common_v2.ipynb\n",
    "%run functions_angle_calculation.ipynb\n",
    "%run functions_video.ipynb"
   ]
  },
  {
   "cell_type": "markdown",
   "id": "4ab4dd8b-2460-4480-bf98-6c152b81be2b",
   "metadata": {},
   "outputs": [],
   "source": [
    "## Playing a video"
   ]
  },
  {
   "cell_type": "code",
   "execution_count": null,
   "id": "77090d1f-bb28-4d09-bd75-9c11b2882bfe",
   "metadata": {},
   "outputs": [],
   "source": [
    "# this frame_process does nothing for now, just returning the frame\n",
    "\n",
    "def frame_process(frame):\n",
    "    return frame"
   ]
  },
  {
   "cell_type": "code",
   "execution_count": null,
   "id": "2ee0089e-7cfc-4d9b-abe3-d5e392259ae6",
   "metadata": {},
   "outputs": [],
   "source": [
    "display(stopButton)\n",
    "thread = threading.Thread(target=view, args=(stopButton, \"./resource/Produce_2_direct.mp4\", 0, frame_process))\n",
    "thread.start()\n"
   ]
  },
  {
   "cell_type": "markdown",
   "id": "ac0f859c-5aa8-4aac-aea2-6ee764dd0c4d",
   "metadata": {},
   "outputs": [],
   "source": [
    "## Add some text to the video"
   ]
  },
  {
   "cell_type": "code",
   "execution_count": null,
   "id": "42c8ca7f-3ea6-4fe5-a232-b1db37700148",
   "metadata": {},
   "outputs": [],
   "source": [
    "text_scale = 0.65\n",
    "text_thickness = 2\n",
    "\n",
    "def putText(frame, text, color = (0, 255, 0), position_x = 20, position_y = 20):\n",
    "    global text_scale, text_thickness\n",
    "    # Define the text properties\n",
    "    font = cv2.FONT_HERSHEY_SIMPLEX\n",
    "    text_position = (position_x, position_y)\n",
    "    text_color = color\n",
    "\n",
    "    # Add text annotation on the frame\n",
    "    cv2.putText(frame, text, text_position, font, text_scale, text_color, text_thickness)   \n"
   ]
  },
  {
   "cell_type": "code",
   "execution_count": null,
   "id": "7a2a4e2b-907c-42e6-bb39-240cdf0dbcfc",
   "metadata": {},
   "outputs": [],
   "source": [
    "def frame_process(frame):\n",
    "    text = f\"HAHAHA\"\n",
    "    putText(frame, text)\n",
    "    return frame\n",
    "\n",
    "display(stopButton)\n",
    "thread = threading.Thread(target=view, args=(stopButton, \"./resource/Produce_2_direct.mp4\", 0, frame_process))\n",
    "thread.start()\n"
   ]
  },
  {
   "cell_type": "markdown",
   "id": "37b64737-9d3e-435b-a3e4-e20e10731e8a",
   "metadata": {},
   "outputs": [],
   "source": [
    "### Add a counter and angles to the video"
   ]
  },
  {
   "cell_type": "code",
   "execution_count": null,
   "id": "347126e0-9345-4dec-bcb8-8536555e5aae",
   "metadata": {},
   "outputs": [],
   "source": [
    "frame_count = 0\n",
    "knee_angle = 0\n",
    "hip_angle = 0\n",
    "\n",
    "def frame_process(frame):\n",
    "    global frame_count\n",
    "    frame_count = frame_count + 1\n",
    "    text = f\"Frame: {frame_count}  Knee: {int(knee_angle)}  Hip: {int(hip_angle)}\"\n",
    "    \n",
    "    putText(frame, text)\n",
    "    return frame\n",
    "\n",
    "display(stopButton)\n",
    "thread = threading.Thread(target=view, args=(stopButton, \"./resource/Produce_2_direct.mp4\", 0, frame_process))\n",
    "thread.start()\n"
   ]
  },
  {
   "cell_type": "markdown",
   "id": "8587691c-ee6f-4c3e-968c-c3fb84c35889",
   "metadata": {},
   "outputs": [],
   "source": [
    "## Change the FPS of the video"
   ]
  },
  {
   "cell_type": "code",
   "execution_count": null,
   "id": "582113b3-5b0c-42f3-8763-42cdf62a370a",
   "metadata": {},
   "outputs": [],
   "source": [
    "fps = 3\n",
    "frame_count = 0\n",
    "\n",
    "display(stopButton)\n",
    "thread = threading.Thread(target=view, args=(stopButton, \"./resource/Produce_2_direct.mp4\", 0, frame_process, fps))\n",
    "thread.start()"
   ]
  },
  {
   "cell_type": "markdown",
   "id": "f847fccf-407e-441b-9a3d-79ed0eb8744d",
   "metadata": {},
   "outputs": [],
   "source": [
    "## Calculate angle for each frame"
   ]
  },
  {
   "cell_type": "code",
   "execution_count": null,
   "id": "ee4ab67b-cbfc-4de3-b910-6d607daf7c4a",
   "metadata": {},
   "outputs": [],
   "source": [
    "frame_count = 0\n",
    "squat_count = 0\n",
    "\n",
    "def frame_process(frame):\n",
    "    global frame_count, squat_count, squat_state\n",
    "\n",
    "    frame_count = frame_count + 1\n",
    "\n",
    "    # calculate and display angle\n",
    "    movenet_frame = convert_to_movenet_format(frame)\n",
    "    movenet_output = movenet(movenet_frame)\n",
    "    keypoints_with_scores = reoganize_output(movenet_output)\n",
    "\n",
    "    hip_angle = calculate_hip_joint_angle(keypoints_with_scores)\n",
    "    knee_angle = calculate_knee_joint_angle(keypoints_with_scores)\n",
    "\n",
    "    frame = cv2_resize_with_pad(frame)\n",
    "\n",
    "    text = f\"Frame count: {frame_count}, Squat Count: {squat_count}, Knee: {int(knee_angle)}  Hip: {int(hip_angle)}\"\n",
    "    \n",
    "    putText(frame, text)\n",
    "\n",
    "    return frame\n",
    "\n",
    "\n",
    "# Run\n",
    "display(stopButton)\n",
    "thread = threading.Thread(target=view, args=(stopButton, \"./resource/Produce_2_direct.mp4\", 0, frame_process, fps))\n",
    "thread.start()\n",
    "\n"
   ]
  },
  {
   "cell_type": "markdown",
   "id": "13b56a12-9415-485d-b135-19ef5658d1b8",
   "metadata": {},
   "outputs": [],
   "source": [
    "## Count the squat"
   ]
  },
  {
   "cell_type": "markdown",
   "id": "a7a5d2a6-b9da-4a1a-8a41-22c9a5b2dd55",
   "metadata": {},
   "outputs": [],
   "source": [
    "### Define some helper functions"
   ]
  },
  {
   "cell_type": "code",
   "execution_count": null,
   "id": "58c76bd0-4a2b-48e6-9bdf-056849456f90",
   "metadata": {},
   "outputs": [],
   "source": [
    "def reset_counter():\n",
    "    global frame_count, squat_count, squat_state\n",
    "    squat_count = 0\n",
    "    squat_state = \"standing\"\n",
    "    frame_count = 0\n"
   ]
  },
  {
   "cell_type": "code",
   "execution_count": null,
   "id": "32895901-2c0f-4192-8bab-fbd13b5693b1",
   "metadata": {},
   "outputs": [],
   "source": [
    "def count_squat(hip_angle, knee_angle, squat_count, squat_state):\n",
    "    # Gesture judgement from angle of hip-joint and knee-joint\n",
    "    # if gesture is from squat (squat == 1) change to stand (squat == 0), repetition add by 1\n",
    "\n",
    "    if hip_angle < 135 and knee_angle < 120:\n",
    "        squat_state = \"squating\"\n",
    "    elif hip_angle>135 and knee_angle>120:\n",
    "        if squat_state == \"squating\":\n",
    "            squat_count += 1\n",
    "        squat_state = \"standing\"\n",
    "\n",
    "    return squat_count, squat_state   "
   ]
  },
  {
   "cell_type": "markdown",
   "id": "2c983c81-d4fc-4372-8ac4-f89c4c94d119",
   "metadata": {},
   "outputs": [],
   "source": [
    "### Test the function"
   ]
  },
  {
   "cell_type": "markdown",
   "id": "87fd4df4-7ee6-4e8e-a8d9-33728bbd07aa",
   "metadata": {},
   "outputs": [],
   "source": [
    "#### Case 1\n",
    "He was standing but the angle now less than 135 and 120, the new state become squating"
   ]
  },
  {
   "cell_type": "code",
   "execution_count": null,
   "id": "2e87d571-7daf-4e5a-aebf-c1146957c134",
   "metadata": {},
   "outputs": [],
   "source": [
    "count_squat(120, 110, 0, \"standing\")"
   ]
  },
  {
   "cell_type": "markdown",
   "id": "5115795c-3f97-4b60-a98d-e1074cd09e78",
   "metadata": {},
   "outputs": [],
   "source": [
    "#### Case 2\n",
    "He was squating but the angle now less than 135 and 120, the state is not changed"
   ]
  },
  {
   "cell_type": "code",
   "execution_count": null,
   "id": "c510785e-e00a-4ffc-a9f4-11b6f7e5b5c5",
   "metadata": {},
   "outputs": [],
   "source": [
    "count_squat(120, 110, 0, \"squating\")"
   ]
  },
  {
   "cell_type": "markdown",
   "id": "b010230c-b081-47e9-9f64-4997724cc593",
   "metadata": {},
   "outputs": [],
   "source": [
    "#### Case 3\n",
    "He was squating but the angle now bigger than 135 and 120\n",
    "- The state is changed back standing\n",
    "- The count become 1"
   ]
  },
  {
   "cell_type": "code",
   "execution_count": null,
   "id": "cec17636-166f-419d-a9be-6837be068ee4",
   "metadata": {},
   "outputs": [],
   "source": [
    "count_squat(150, 150, 0, \"squating\")"
   ]
  },
  {
   "cell_type": "markdown",
   "id": "5ae9467f-ae78-4fa6-9fb9-936c1319d175",
   "metadata": {},
   "outputs": [],
   "source": [
    "#### Case 4\n",
    "He was squating but the angle now bigger than 135 and 120\n",
    "- The state is changed back standing\n",
    "- The count become 6"
   ]
  },
  {
   "cell_type": "code",
   "execution_count": null,
   "id": "29732224-b180-4739-969f-335bc32dc365",
   "metadata": {},
   "outputs": [],
   "source": [
    "count_squat(150, 150, 5, \"squating\")"
   ]
  },
  {
   "cell_type": "markdown",
   "id": "38393008-de35-40d8-8add-e99c061cc15d",
   "metadata": {},
   "outputs": [],
   "source": [
    "### Integrate into our program"
   ]
  },
  {
   "cell_type": "code",
   "execution_count": null,
   "id": "8cbe8128-511b-4133-8ae1-9b2596862ff0",
   "metadata": {},
   "outputs": [],
   "source": [
    "squat_state = \"standing\"\n",
    "\n",
    "reset_counter()\n",
    "    \n",
    "def frame_process(frame):\n",
    "    global frame_count, squat_count, squat_state\n",
    "\n",
    "    frame_count = frame_count + 1\n",
    "    \n",
    "    movenet_frame = convert_to_movenet_format(frame)\n",
    "    movenet_output = movenet(movenet_frame)\n",
    "    keypoints_with_scores = reoganize_output(movenet_output)\n",
    "\n",
    "    hip_angle = calculate_hip_joint_angle(keypoints_with_scores)\n",
    "    knee_angle = calculate_knee_joint_angle(keypoints_with_scores)\n",
    "\n",
    "    frame = cv2_resize_with_pad(frame)\n",
    "\n",
    "    squat_count, squat_state = count_squat(hip_angle, knee_angle, squat_count, squat_state)\n",
    " \n",
    "    text = f\"Frame count: {frame_count}, Squat Count: {squat_count}, Knee: {int(knee_angle)}  Hip: {int(hip_angle)}\"\n",
    "    \n",
    "    if squat_state == \"squating\":\n",
    "        text_color = (0,255,0)\n",
    "    else:\n",
    "        text_color = (128, 192, 64)\n",
    "\n",
    "    putText(frame, text, text_color)\n",
    "\n",
    "    return frame\n",
    "\n",
    "\n",
    "# Run\n",
    "display(stopButton)\n",
    "thread = threading.Thread(target=view, args=(stopButton, \"./resource/Produce_2_direct.mp4\", 0, frame_process, fps))\n",
    "thread.start()\n",
    "\n"
   ]
  },
  {
   "cell_type": "markdown",
   "id": "51dc77e4-93ea-44bf-addb-df8785f0841b",
   "metadata": {},
   "outputs": [],
   "source": [
    "## Annotate the keypoints"
   ]
  },
  {
   "cell_type": "markdown",
   "id": "9311e0e0-d2d8-4b13-acfe-457b94858da6",
   "metadata": {},
   "outputs": [],
   "source": [
    "### Define some helper functions"
   ]
  },
  {
   "cell_type": "code",
   "execution_count": null,
   "id": "8ac9b2eb-9757-40ff-bfe0-78bdb741b013",
   "metadata": {},
   "outputs": [],
   "source": [
    "# Define the color (BGR) and size\n",
    "\n",
    "def cv2_circle(frame, xy, text=None):\n",
    "    \n",
    "    color = (255, 0, 0)  # Blue color\n",
    "    radius = 5\n",
    "    thickness = -1  # Solid circle\n",
    "    \n",
    "    # Draw the point\n",
    "    cv2.circle(frame, xy, radius, color, thickness)\n",
    "\n",
    "    if text is not None:\n",
    "        x,y = xy\n",
    "        \n",
    "        putText(frame, text, (255,0,0),  int(x * 1.1), y)\n",
    "\n",
    "\n",
    "def absolute_xy(frame, point):\n",
    "    x = point[1] * frame.shape[1]\n",
    "    y = point[0] * frame.shape[0]\n",
    "    return (int(x), int(y))\n",
    "    "
   ]
  },
  {
   "cell_type": "code",
   "execution_count": null,
   "id": "1da82f85-1493-4a5e-b850-fb28fe442fa5",
   "metadata": {},
   "outputs": [],
   "source": [
    "squat_state = \"standing\"\n",
    "\n",
    "reset_counter()\n",
    "    \n",
    "def frame_process(frame):\n",
    "    global frame_count, squat_count, squat_state\n",
    "\n",
    "    frame_count = frame_count + 1\n",
    "    \n",
    "    movenet_frame = convert_to_movenet_format(frame)\n",
    "    movenet_output = movenet(movenet_frame)\n",
    "    keypoints_with_scores = reoganize_output(movenet_output)\n",
    "\n",
    "    hip_angle = calculate_hip_joint_angle(keypoints_with_scores)\n",
    "    knee_angle = calculate_knee_joint_angle(keypoints_with_scores)\n",
    "\n",
    "    frame = cv2_resize_with_pad(frame)\n",
    "\n",
    "    squat_count, squat_state = count_squat(hip_angle, knee_angle, squat_count, squat_state)\n",
    " \n",
    "    text = f\"Frame count: {frame_count}, Squat Count: {squat_count}, Knee: {int(knee_angle)}  Hip: {int(hip_angle)}\"\n",
    "    \n",
    "    if squat_state == \"squating\":\n",
    "        text_color = (0,255,0)\n",
    "    else:\n",
    "        text_color = (128, 192, 64)\n",
    "\n",
    "    putText(frame, text, text_color)\n",
    "\n",
    "    for body_part in body_parts:    \n",
    "        cv2_circle(frame, absolute_xy(frame, keypoints_with_scores['right'][body_part]), body_part)\n",
    "\n",
    "    return frame\n",
    "\n",
    "\n",
    "# Run\n",
    "display(stopButton)\n",
    "thread = threading.Thread(target=view, args=(stopButton, \"./resource/Produce_2_direct.mp4\", 0, frame_process, fps))\n",
    "\n",
    "thread.start()\n",
    "\n"
   ]
  },
  {
   "cell_type": "markdown",
   "id": "4e5545b4-b482-4aaf-af6c-cdc166a6101d",
   "metadata": {},
   "outputs": [],
   "source": [
    "## Use Camera as the source\n",
    "\n",
    "Instead of specifying the filename in the second parameters of `view()`, put `0` because `0` is normally the default camera of the system"
   ]
  },
  {
   "cell_type": "code",
   "execution_count": null,
   "id": "1cb9c4cf-47ae-49f2-8b22-d8e7349aeff2",
   "metadata": {},
   "outputs": [],
   "source": [
    "fps = 300"
   ]
  },
  {
   "cell_type": "code",
   "execution_count": null,
   "id": "8e380fe5-cd7b-45f5-954e-14f988a0e462",
   "metadata": {},
   "outputs": [],
   "source": [
    "text_scale = 0.65\n",
    "\n",
    "reset_counter()\n",
    "\n",
    "display(stopButton)\n",
    "thread = threading.Thread(target=view, args=(stopButton, 0, -1, frame_process, fps))\n",
    "\n",
    "thread.start()"
   ]
  },
  {
   "cell_type": "markdown",
   "id": "5cccca4b-bbac-4aa2-9743-ad73c8337fcd",
   "metadata": {},
   "outputs": [],
   "source": [
    "<hr/>"
   ]
  },
  {
   "cell_type": "markdown",
   "id": "3b376544-2517-4b95-913f-ce6f522ce5bf",
   "metadata": {},
   "outputs": [],
   "source": [
    "## Congratulation! You have finished this chapter."
   ]
  },
  {
   "cell_type": "markdown",
   "id": "d63a5467-8b99-4112-a85f-8c63a83d575a",
   "metadata": {},
   "outputs": [],
   "source": [
    "This jupyter notebook is created by 10Botics. <br>\n",
    "For permission to use in school, please contact info@10botics.com <br>\n",
    "All rights reserved. 2024."
   ]
  }
 ],
 "metadata": {
  "kernelspec": {
   "display_name": "Python 3 (ipykernel)",
   "language": "python",
   "name": "python3"
  },
  "language_info": {
   "codemirror_mode": {
    "name": "ipython",
    "version": 3
   },
   "file_extension": ".py",
   "mimetype": "text/x-python",
   "name": "python",
   "nbconvert_exporter": "python",
   "pygments_lexer": "ipython3",
   "version": "3.9.19"
  }
 },
 "nbformat": 4,
 "nbformat_minor": 5
}
