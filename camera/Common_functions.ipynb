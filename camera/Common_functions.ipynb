{
 "cells": [
  {
   "cell_type": "markdown",
   "id": "3a426740-d17f-4928-af63-03c2322bcfd9",
   "metadata": {},
   "source": [
    "# Import libraries\n",
    "\n",
    "This files imports libraries and contains common function used by camera notebooks.<br>\n",
    "\n",
    "To use this file, put the following code in your notebook\n",
    "\n",
    "`%run Common_functions.ipynb`"
   ]
  },
  {
   "cell_type": "code",
   "execution_count": null,
   "id": "74325a42-3d81-4fd3-84f1-2b533f9dd626",
   "metadata": {},
   "outputs": [],
   "source": [
    "import matplotlib.pyplot as plt\n",
    "import cv2\n",
    "import numpy as np\n",
    "from IPython.display import display, Image\n",
    "\n",
    "import threading"
   ]
  },
  {
   "cell_type": "code",
   "execution_count": null,
   "id": "25af3a29-d34e-4518-8aa3-33b2f0cd555e",
   "metadata": {},
   "outputs": [],
   "source": [
    "def setCaptureProperties(cap, width, height, fps):\n",
    "    # set the capture properties\n",
    "    cap.set(cv2.CAP_PROP_FRAME_WIDTH, width)\n",
    "    cap.set(cv2.CAP_PROP_FRAME_HEIGHT, height)\n",
    "    cap.set(cv2.CAP_PROP_FPS, fps)\n",
    "    "
   ]
  },
  {
   "cell_type": "code",
   "execution_count": null,
   "id": "612f7d8f-4aec-4720-b46c-719c74aa30f4",
   "metadata": {},
   "outputs": [],
   "source": [
    "def createStopButton():\n",
    "    import ipywidgets as widgets\n",
    "    return widgets.ToggleButton(\n",
    "        value=False,\n",
    "        description='Stop',\n",
    "        disabled=False,\n",
    "        button_style='danger', # 'success', 'info', 'warning', 'danger' or ''\n",
    "        tooltip='Description',\n",
    "        icon='square' # (FontAwesome names without the `fa-` prefix)\n",
    "    )"
   ]
  }
 ],
 "metadata": {
  "kernelspec": {
   "display_name": "Python 3 (ipykernel)",
   "language": "python",
   "name": "python3"
  },
  "language_info": {
   "codemirror_mode": {
    "name": "ipython",
    "version": 3
   },
   "file_extension": ".py",
   "mimetype": "text/x-python",
   "name": "python",
   "nbconvert_exporter": "python",
   "pygments_lexer": "ipython3",
   "version": "3.9.2"
  }
 },
 "nbformat": 4,
 "nbformat_minor": 5
}
