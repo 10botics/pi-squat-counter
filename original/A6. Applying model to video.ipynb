{
 "cells": [
  {
   "cell_type": "markdown",
   "id": "1aa236a0-7fe7-46f7-a433-ff75cd15d61a",
   "metadata": {},
   "source": [
    "# Applying model to a video"
   ]
  },
  {
   "cell_type": "markdown",
   "id": "d9d6f8c5-1652-4df5-ba92-7d48f3ae0c5a",
   "metadata": {},
   "source": [
    "## Include libraries and functions"
   ]
  },
  {
   "cell_type": "code",
   "execution_count": 1,
   "id": "0e9227bc-f249-4da6-91ff-11719c68c8fa",
   "metadata": {},
   "outputs": [
    {
     "name": "stderr",
     "output_type": "stream",
     "text": [
      "2024-05-21 12:14:37.165413: I tensorflow/core/platform/cpu_feature_guard.cc:193] This TensorFlow binary is optimized with oneAPI Deep Neural Network Library (oneDNN) to use the following CPU instructions in performance-critical operations:  AVX2 AVX512F AVX512_VNNI AVX512_BF16 FMA\n",
      "To enable them in other operations, rebuild TensorFlow with the appropriate compiler flags.\n",
      "2024-05-21 12:14:37.277939: I tensorflow/core/util/util.cc:169] oneDNN custom operations are on. You may see slightly different numerical results due to floating-point round-off errors from different computation orders. To turn them off, set the environment variable `TF_ENABLE_ONEDNN_OPTS=0`.\n",
      "2024-05-21 12:14:37.281256: W tensorflow/stream_executor/platform/default/dso_loader.cc:64] Could not load dynamic library 'libcudart.so.11.0'; dlerror: libcudart.so.11.0: cannot open shared object file: No such file or directory\n",
      "2024-05-21 12:14:37.281265: I tensorflow/stream_executor/cuda/cudart_stub.cc:29] Ignore above cudart dlerror if you do not have a GPU set up on your machine.\n",
      "2024-05-21 12:14:37.295903: E tensorflow/stream_executor/cuda/cuda_blas.cc:2981] Unable to register cuBLAS factory: Attempting to register factory for plugin cuBLAS when one has already been registered\n",
      "2024-05-21 12:14:37.777372: W tensorflow/stream_executor/platform/default/dso_loader.cc:64] Could not load dynamic library 'libnvinfer.so.7'; dlerror: libnvinfer.so.7: cannot open shared object file: No such file or directory\n",
      "2024-05-21 12:14:37.777433: W tensorflow/stream_executor/platform/default/dso_loader.cc:64] Could not load dynamic library 'libnvinfer_plugin.so.7'; dlerror: libnvinfer_plugin.so.7: cannot open shared object file: No such file or directory\n",
      "2024-05-21 12:14:37.777438: W tensorflow/compiler/tf2tensorrt/utils/py_utils.cc:38] TF-TRT Warning: Cannot dlopen some TensorRT libraries. If you would like to use Nvidia GPU with TensorRT, please make sure the missing libraries mentioned above are installed properly.\n"
     ]
    },
    {
     "name": "stdout",
     "output_type": "stream",
     "text": [
      "TF version: 2.10.0\n"
     ]
    },
    {
     "name": "stderr",
     "output_type": "stream",
     "text": [
      "INFO: Created TensorFlow Lite XNNPACK delegate for CPU.\n"
     ]
    }
   ],
   "source": [
    "%run Squat_common_v2.ipynb\n",
    "%run functions_angle_calculation.ipynb\n",
    "%run functions_video.ipynb"
   ]
  },
  {
   "cell_type": "markdown",
   "id": "4ab4dd8b-2460-4480-bf98-6c152b81be2b",
   "metadata": {},
   "source": [
    "## Playing a video"
   ]
  },
  {
   "cell_type": "code",
   "execution_count": 8,
   "id": "77090d1f-bb28-4d09-bd75-9c11b2882bfe",
   "metadata": {},
   "outputs": [],
   "source": [
    "# this frame_process does nothing for now, just returning the frame\n",
    "\n",
    "def frame_process(frame):\n",
    "    return frame"
   ]
  },
  {
   "cell_type": "code",
   "execution_count": 9,
   "id": "2ee0089e-7cfc-4d9b-abe3-d5e392259ae6",
   "metadata": {},
   "outputs": [
    {
     "data": {
      "application/vnd.jupyter.widget-view+json": {
       "model_id": "ce5e975d36d6453cae1f870ddac0513e",
       "version_major": 2,
       "version_minor": 0
      },
      "text/plain": [
       "ToggleButton(value=False, button_style='danger', description='Stop', icon='square', tooltip='Description')"
      ]
     },
     "metadata": {},
     "output_type": "display_data"
    },
    {
     "data": {
      "text/plain": [
       "None"
      ]
     },
     "metadata": {},
     "output_type": "display_data"
    }
   ],
   "source": [
    "display(stopButton)\n",
    "thread = threading.Thread(target=view, args=(stopButton, \"../resource/Produce_2_direct.mp4\", 0, frame_process))\n",
    "thread.start()\n"
   ]
  },
  {
   "cell_type": "markdown",
   "id": "ac0f859c-5aa8-4aac-aea2-6ee764dd0c4d",
   "metadata": {},
   "source": [
    "## Add some text to the video"
   ]
  },
  {
   "cell_type": "code",
   "execution_count": 5,
   "id": "42c8ca7f-3ea6-4fe5-a232-b1db37700148",
   "metadata": {},
   "outputs": [],
   "source": [
    "text_scale = 0.65\n",
    "\n",
    "def putText(frame, text, color = (0, 255, 0), position_x = 50, position_y = 50):\n",
    "    global text_scale\n",
    "    # Define the text properties\n",
    "    font = cv2.FONT_HERSHEY_SIMPLEX\n",
    "    text_position = (position_x, position_y)\n",
    "    text_color = color\n",
    "    text_thickness = 2\n",
    "\n",
    "    # Add text annotation on the frame\n",
    "    cv2.putText(frame, text, text_position, font, text_scale, text_color, text_thickness)   \n"
   ]
  },
  {
   "cell_type": "code",
   "execution_count": 12,
   "id": "7a2a4e2b-907c-42e6-bb39-240cdf0dbcfc",
   "metadata": {},
   "outputs": [
    {
     "data": {
      "application/vnd.jupyter.widget-view+json": {
       "model_id": "ce5e975d36d6453cae1f870ddac0513e",
       "version_major": 2,
       "version_minor": 0
      },
      "text/plain": [
       "ToggleButton(value=False, button_style='danger', description='Stop', icon='square', tooltip='Description')"
      ]
     },
     "metadata": {},
     "output_type": "display_data"
    },
    {
     "data": {
      "text/plain": [
       "None"
      ]
     },
     "metadata": {},
     "output_type": "display_data"
    }
   ],
   "source": [
    "def frame_process(frame):\n",
    "    text = f\"HAHAHA\"\n",
    "    putText(frame, text)\n",
    "    return frame\n",
    "\n",
    "display(stopButton)\n",
    "thread = threading.Thread(target=view, args=(stopButton, \"../resource/Produce_2_direct.mp4\", 0, frame_process))\n",
    "thread.start()\n"
   ]
  },
  {
   "cell_type": "markdown",
   "id": "37b64737-9d3e-435b-a3e4-e20e10731e8a",
   "metadata": {},
   "source": [
    "### Add a counter and angles to the video"
   ]
  },
  {
   "cell_type": "code",
   "execution_count": 32,
   "id": "347126e0-9345-4dec-bcb8-8536555e5aae",
   "metadata": {},
   "outputs": [
    {
     "data": {
      "application/vnd.jupyter.widget-view+json": {
       "model_id": "ce5e975d36d6453cae1f870ddac0513e",
       "version_major": 2,
       "version_minor": 0
      },
      "text/plain": [
       "ToggleButton(value=False, button_style='danger', description='Stop', icon='square', tooltip='Description')"
      ]
     },
     "metadata": {},
     "output_type": "display_data"
    },
    {
     "data": {
      "text/plain": [
       "None"
      ]
     },
     "metadata": {},
     "output_type": "display_data"
    }
   ],
   "source": [
    "frame_count = 0\n",
    "knee_angle = 0\n",
    "hip_angle = 0\n",
    "\n",
    "def frame_process(frame):\n",
    "    global frame_count\n",
    "    frame_count = frame_count + 1\n",
    "    text = f\"Frame: {frame_count}  Knee: {int(knee_angle)}  Hip: {int(hip_angle)}\"\n",
    "    \n",
    "    putText(frame, text)\n",
    "    return frame\n",
    "\n",
    "display(stopButton)\n",
    "thread = threading.Thread(target=view, args=(stopButton, \"../resource/Produce_2_direct.mp4\", 0, frame_process))\n",
    "thread.start()\n"
   ]
  },
  {
   "cell_type": "markdown",
   "id": "8587691c-ee6f-4c3e-968c-c3fb84c35889",
   "metadata": {},
   "source": [
    "## Change the FPS of the video"
   ]
  },
  {
   "cell_type": "code",
   "execution_count": 2,
   "id": "582113b3-5b0c-42f3-8763-42cdf62a370a",
   "metadata": {},
   "outputs": [
    {
     "data": {
      "application/vnd.jupyter.widget-view+json": {
       "model_id": "e8869b7419744a8381458209b2013419",
       "version_major": 2,
       "version_minor": 0
      },
      "text/plain": [
       "ToggleButton(value=False, button_style='danger', description='Stop', icon='square', tooltip='Description')"
      ]
     },
     "metadata": {},
     "output_type": "display_data"
    },
    {
     "ename": "NameError",
     "evalue": "name 'frame_process' is not defined",
     "output_type": "error",
     "traceback": [
      "\u001b[0;31m---------------------------------------------------------------------------\u001b[0m",
      "\u001b[0;31mNameError\u001b[0m                                 Traceback (most recent call last)",
      "Cell \u001b[0;32mIn[2], line 5\u001b[0m\n\u001b[1;32m      2\u001b[0m frame_count \u001b[38;5;241m=\u001b[39m \u001b[38;5;241m0\u001b[39m\n\u001b[1;32m      4\u001b[0m display(stopButton)\n\u001b[0;32m----> 5\u001b[0m thread \u001b[38;5;241m=\u001b[39m threading\u001b[38;5;241m.\u001b[39mThread(target\u001b[38;5;241m=\u001b[39mview, args\u001b[38;5;241m=\u001b[39m(stopButton, \u001b[38;5;124m\"\u001b[39m\u001b[38;5;124m../resource/Produce_2_direct.mp4\u001b[39m\u001b[38;5;124m\"\u001b[39m, \u001b[38;5;241m0\u001b[39m, \u001b[43mframe_process\u001b[49m, fps))\n\u001b[1;32m      6\u001b[0m thread\u001b[38;5;241m.\u001b[39mstart()\n",
      "\u001b[0;31mNameError\u001b[0m: name 'frame_process' is not defined"
     ]
    }
   ],
   "source": [
    "fps = 3\n",
    "frame_count = 0\n",
    "\n",
    "display(stopButton)\n",
    "thread = threading.Thread(target=view, args=(stopButton, \"../resource/Produce_2_direct.mp4\", 0, frame_process, fps))\n",
    "thread.start()"
   ]
  },
  {
   "cell_type": "markdown",
   "id": "f847fccf-407e-441b-9a3d-79ed0eb8744d",
   "metadata": {},
   "source": [
    "## Calculate angle for each frame"
   ]
  },
  {
   "cell_type": "code",
   "execution_count": 6,
   "id": "ee4ab67b-cbfc-4de3-b910-6d607daf7c4a",
   "metadata": {},
   "outputs": [
    {
     "data": {
      "application/vnd.jupyter.widget-view+json": {
       "model_id": "e8869b7419744a8381458209b2013419",
       "version_major": 2,
       "version_minor": 0
      },
      "text/plain": [
       "ToggleButton(value=False, button_style='danger', description='Stop', icon='square', tooltip='Description')"
      ]
     },
     "metadata": {},
     "output_type": "display_data"
    },
    {
     "data": {
      "text/plain": [
       "None"
      ]
     },
     "metadata": {},
     "output_type": "display_data"
    }
   ],
   "source": [
    "frame_count = 0\n",
    "squat_count = 0\n",
    "\n",
    "def frame_process(frame):\n",
    "    global frame_count, squat_count, squat_state\n",
    "\n",
    "    frame_count = frame_count + 1\n",
    "\n",
    "    # calculate and display angle\n",
    "    movenet_frame = convert_to_movenet_format(frame)\n",
    "    movenet_output = movenet(movenet_frame)\n",
    "    keypoints_with_scores = reoganize_output(movenet_output)\n",
    "\n",
    "    hip_angle = calculate_hip_joint_angle(keypoints_with_scores)\n",
    "    knee_angle = calculate_knee_joint_angle(keypoints_with_scores)\n",
    "\n",
    "    frame = cv2_resize_with_pad(frame)\n",
    "\n",
    "    text = f\"Frame count: {frame_count}, Squat Count: {squat_count}, Knee: {int(knee_angle)}  Hip: {int(hip_angle)}\"\n",
    "    \n",
    "    putText(frame, text)\n",
    "\n",
    "    return frame\n",
    "\n",
    "\n",
    "# Run\n",
    "display(stopButton)\n",
    "thread = threading.Thread(target=view, args=(stopButton, \"../resource/Produce_2_direct.mp4\", 0, frame_process, fps))\n",
    "thread.start()\n",
    "\n"
   ]
  },
  {
   "cell_type": "markdown",
   "id": "13b56a12-9415-485d-b135-19ef5658d1b8",
   "metadata": {},
   "source": [
    "## Count the squat"
   ]
  },
  {
   "cell_type": "markdown",
   "id": "a7a5d2a6-b9da-4a1a-8a41-22c9a5b2dd55",
   "metadata": {},
   "source": [
    "### Define some helper functions"
   ]
  },
  {
   "cell_type": "code",
   "execution_count": null,
   "id": "58c76bd0-4a2b-48e6-9bdf-056849456f90",
   "metadata": {},
   "outputs": [],
   "source": [
    "def reset_counter():\n",
    "    global frame_count, squat_count, squat_state\n",
    "    squat_count = 0\n",
    "    squat_state = \"standing\"\n",
    "    frame_count = 0\n"
   ]
  },
  {
   "cell_type": "code",
   "execution_count": 15,
   "id": "32895901-2c0f-4192-8bab-fbd13b5693b1",
   "metadata": {},
   "outputs": [],
   "source": [
    "def count_squat(hip_angle, knee_angle, squat_count, squat_state):\n",
    "    # Gesture judgement from angle of hip-joint and knee-joint\n",
    "    # if gesture is from squat (squat == 1) change to stand (squat == 0), repetition add by 1\n",
    "\n",
    "    if hip_angle < 135 and knee_angle < 120:\n",
    "        squat_state = \"squating\"\n",
    "    elif hip_angle>135 and knee_angle>120:\n",
    "        if squat_state == \"squating\":\n",
    "            squat_count += 1\n",
    "        squat_state = \"standing\"\n",
    "\n",
    "    return squat_count, squat_state   "
   ]
  },
  {
   "cell_type": "markdown",
   "id": "2c983c81-d4fc-4372-8ac4-f89c4c94d119",
   "metadata": {},
   "source": [
    "### Test the function"
   ]
  },
  {
   "cell_type": "markdown",
   "id": "87fd4df4-7ee6-4e8e-a8d9-33728bbd07aa",
   "metadata": {},
   "source": [
    "#### Case 1\n",
    "He was standing but the angle now less than 135 and 120, the new state become squating"
   ]
  },
  {
   "cell_type": "code",
   "execution_count": 16,
   "id": "2e87d571-7daf-4e5a-aebf-c1146957c134",
   "metadata": {},
   "outputs": [
    {
     "data": {
      "text/plain": [
       "(0, 'squating')"
      ]
     },
     "execution_count": 16,
     "metadata": {},
     "output_type": "execute_result"
    }
   ],
   "source": [
    "count_squat(120, 110, 0, \"standing\")"
   ]
  },
  {
   "cell_type": "markdown",
   "id": "5115795c-3f97-4b60-a98d-e1074cd09e78",
   "metadata": {},
   "source": [
    "#### Case 2\n",
    "He was squating but the angle now less than 135 and 120, the state is not changed"
   ]
  },
  {
   "cell_type": "code",
   "execution_count": 17,
   "id": "c510785e-e00a-4ffc-a9f4-11b6f7e5b5c5",
   "metadata": {},
   "outputs": [
    {
     "data": {
      "text/plain": [
       "(0, 'squating')"
      ]
     },
     "execution_count": 17,
     "metadata": {},
     "output_type": "execute_result"
    }
   ],
   "source": [
    "count_squat(120, 110, 0, \"squating\")"
   ]
  },
  {
   "cell_type": "markdown",
   "id": "b010230c-b081-47e9-9f64-4997724cc593",
   "metadata": {},
   "source": [
    "#### Case 3\n",
    "He was squating but the angle now bigger than 135 and 120\n",
    "- The state is changed back standing\n",
    "- The count become 1"
   ]
  },
  {
   "cell_type": "code",
   "execution_count": 18,
   "id": "cec17636-166f-419d-a9be-6837be068ee4",
   "metadata": {},
   "outputs": [
    {
     "data": {
      "text/plain": [
       "(1, 'standing')"
      ]
     },
     "execution_count": 18,
     "metadata": {},
     "output_type": "execute_result"
    }
   ],
   "source": [
    "count_squat(150, 150, 0, \"squating\")"
   ]
  },
  {
   "cell_type": "markdown",
   "id": "5ae9467f-ae78-4fa6-9fb9-936c1319d175",
   "metadata": {},
   "source": [
    "#### Case 4\n",
    "He was squating but the angle now bigger than 135 and 120\n",
    "- The state is changed back standing\n",
    "- The count become 6"
   ]
  },
  {
   "cell_type": "code",
   "execution_count": 29,
   "id": "29732224-b180-4739-969f-335bc32dc365",
   "metadata": {},
   "outputs": [
    {
     "data": {
      "text/plain": [
       "(6, 'standing')"
      ]
     },
     "execution_count": 29,
     "metadata": {},
     "output_type": "execute_result"
    }
   ],
   "source": [
    "count_squat(150, 150, 5, \"squating\")"
   ]
  },
  {
   "cell_type": "markdown",
   "id": "38393008-de35-40d8-8add-e99c061cc15d",
   "metadata": {},
   "source": [
    "### Integrate into our program"
   ]
  },
  {
   "cell_type": "code",
   "execution_count": 20,
   "id": "8cbe8128-511b-4133-8ae1-9b2596862ff0",
   "metadata": {},
   "outputs": [
    {
     "data": {
      "application/vnd.jupyter.widget-view+json": {
       "model_id": "e8869b7419744a8381458209b2013419",
       "version_major": 2,
       "version_minor": 0
      },
      "text/plain": [
       "ToggleButton(value=False, button_style='danger', description='Stop', icon='square', tooltip='Description')"
      ]
     },
     "metadata": {},
     "output_type": "display_data"
    },
    {
     "data": {
      "text/plain": [
       "None"
      ]
     },
     "metadata": {},
     "output_type": "display_data"
    }
   ],
   "source": [
    "squat_state = \"standing\"\n",
    "\n",
    "reset_counter()\n",
    "    \n",
    "def frame_process(frame):\n",
    "    global frame_count, squat_count, squat_state\n",
    "\n",
    "    frame_count = frame_count + 1\n",
    "    \n",
    "    movenet_frame = convert_to_movenet_format(frame)\n",
    "    movenet_output = movenet(movenet_frame)\n",
    "    keypoints_with_scores = reoganize_output(movenet_output)\n",
    "\n",
    "    hip_angle = calculate_hip_joint_angle(keypoints_with_scores)\n",
    "    knee_angle = calculate_knee_joint_angle(keypoints_with_scores)\n",
    "\n",
    "    frame = cv2_resize_with_pad(frame)\n",
    "\n",
    "    squat_count, squat_state = count_squat(hip_angle, knee_angle, squat_count, squat_state)\n",
    " \n",
    "    text = f\"Frame count: {frame_count}, Squat Count: {squat_count}, Knee: {int(knee_angle)}  Hip: {int(hip_angle)}\"\n",
    "    \n",
    "    if squat_state == \"squating\":\n",
    "        text_color = (0,255,0)\n",
    "    else:\n",
    "        text_color = (128, 192, 64)\n",
    "\n",
    "    putText(frame, text, text_color)\n",
    "\n",
    "    return frame\n",
    "\n",
    "\n",
    "# Run\n",
    "display(stopButton)\n",
    "thread = threading.Thread(target=view, args=(stopButton, \"../resource/Produce_2_direct.mp4\", 0, frame_process, fps))\n",
    "thread.start()\n",
    "\n"
   ]
  },
  {
   "cell_type": "markdown",
   "id": "51dc77e4-93ea-44bf-addb-df8785f0841b",
   "metadata": {},
   "source": [
    "## Annotate the keypoints"
   ]
  },
  {
   "cell_type": "markdown",
   "id": "9311e0e0-d2d8-4b13-acfe-457b94858da6",
   "metadata": {},
   "source": [
    "### Define some helper functions"
   ]
  },
  {
   "cell_type": "code",
   "execution_count": 22,
   "id": "8ac9b2eb-9757-40ff-bfe0-78bdb741b013",
   "metadata": {},
   "outputs": [],
   "source": [
    "# Define the color (BGR) and size\n",
    "\n",
    "def cv2_circle(frame, xy, text=None):\n",
    "    \n",
    "    color = (255, 0, 0)  # Blue color\n",
    "    radius = 5\n",
    "    thickness = -1  # Solid circle\n",
    "    \n",
    "    # Draw the point\n",
    "    cv2.circle(frame, xy, radius, color, thickness)\n",
    "\n",
    "    if text is not None:\n",
    "        x,y = xy\n",
    "        \n",
    "        putText(frame, text, (255,0,0),  int(x * 1.1), y)\n",
    "\n",
    "\n",
    "def absolute_xy(frame, point):\n",
    "    x = point[1] * frame.shape[1]\n",
    "    y = point[0] * frame.shape[0]\n",
    "    return (int(x), int(y))\n",
    "    "
   ]
  },
  {
   "cell_type": "code",
   "execution_count": 27,
   "id": "1da82f85-1493-4a5e-b850-fb28fe442fa5",
   "metadata": {},
   "outputs": [
    {
     "data": {
      "application/vnd.jupyter.widget-view+json": {
       "model_id": "e8869b7419744a8381458209b2013419",
       "version_major": 2,
       "version_minor": 0
      },
      "text/plain": [
       "ToggleButton(value=False, button_style='danger', description='Stop', icon='square', tooltip='Description')"
      ]
     },
     "metadata": {},
     "output_type": "display_data"
    },
    {
     "data": {
      "text/plain": [
       "None"
      ]
     },
     "metadata": {},
     "output_type": "display_data"
    }
   ],
   "source": [
    "squat_state = \"standing\"\n",
    "\n",
    "reset_counter()\n",
    "    \n",
    "def frame_process(frame):\n",
    "    global frame_count, squat_count, squat_state\n",
    "\n",
    "    frame_count = frame_count + 1\n",
    "    \n",
    "    movenet_frame = convert_to_movenet_format(frame)\n",
    "    movenet_output = movenet(movenet_frame)\n",
    "    keypoints_with_scores = reoganize_output(movenet_output)\n",
    "\n",
    "    hip_angle = calculate_hip_joint_angle(keypoints_with_scores)\n",
    "    knee_angle = calculate_knee_joint_angle(keypoints_with_scores)\n",
    "\n",
    "    frame = cv2_resize_with_pad(frame)\n",
    "\n",
    "    squat_count, squat_state = count_squat(hip_angle, knee_angle, squat_count, squat_state)\n",
    " \n",
    "    text = f\"Frame count: {frame_count}, Squat Count: {squat_count}, Knee: {int(knee_angle)}  Hip: {int(hip_angle)}\"\n",
    "    \n",
    "    if squat_state == \"squating\":\n",
    "        text_color = (0,255,0)\n",
    "    else:\n",
    "        text_color = (128, 192, 64)\n",
    "\n",
    "    putText(frame, text, text_color)\n",
    "\n",
    "    for body_part in body_parts:    \n",
    "        cv2_circle(frame, absolute_xy(frame, keypoints_with_scores['right'][body_part]), body_part)\n",
    "\n",
    "    return frame\n",
    "\n",
    "\n",
    "# Run\n",
    "display(stopButton)\n",
    "thread = threading.Thread(target=view, args=(stopButton, \"../resource/Produce_2_direct.mp4\", 0, frame_process, fps))\n",
    "\n",
    "thread.start()\n",
    "\n"
   ]
  },
  {
   "cell_type": "markdown",
   "id": "4e5545b4-b482-4aaf-af6c-cdc166a6101d",
   "metadata": {},
   "source": [
    "## Use Camera as the source\n",
    "\n",
    "Instead of specifying the filename in the second parameters of `view()`, put `0` because `0` is normally the default camera of the system"
   ]
  },
  {
   "cell_type": "code",
   "execution_count": 33,
   "id": "1cb9c4cf-47ae-49f2-8b22-d8e7349aeff2",
   "metadata": {},
   "outputs": [],
   "source": [
    "fps = 300"
   ]
  },
  {
   "cell_type": "code",
   "execution_count": 34,
   "id": "8e380fe5-cd7b-45f5-954e-14f988a0e462",
   "metadata": {},
   "outputs": [
    {
     "data": {
      "application/vnd.jupyter.widget-view+json": {
       "model_id": "e8869b7419744a8381458209b2013419",
       "version_major": 2,
       "version_minor": 0
      },
      "text/plain": [
       "ToggleButton(value=False, button_style='danger', description='Stop', icon='square', tooltip='Description')"
      ]
     },
     "metadata": {},
     "output_type": "display_data"
    },
    {
     "data": {
      "text/plain": [
       "None"
      ]
     },
     "metadata": {},
     "output_type": "display_data"
    }
   ],
   "source": [
    "text_scale = 0.65\n",
    "\n",
    "reset_counter()\n",
    "\n",
    "display(stopButton)\n",
    "thread = threading.Thread(target=view, args=(stopButton, 0, -1, frame_process, fps))\n",
    "\n",
    "thread.start()"
   ]
  }
 ],
 "metadata": {
  "kernelspec": {
   "display_name": "Python 3 (ipykernel)",
   "language": "python",
   "name": "python3"
  },
  "language_info": {
   "codemirror_mode": {
    "name": "ipython",
    "version": 3
   },
   "file_extension": ".py",
   "mimetype": "text/x-python",
   "name": "python",
   "nbconvert_exporter": "python",
   "pygments_lexer": "ipython3",
   "version": "3.9.19"
  }
 },
 "nbformat": 4,
 "nbformat_minor": 5
}
