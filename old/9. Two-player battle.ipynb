{
 "cells": [
  {
   "cell_type": "markdown",
   "id": "2efbc1fe-bc44-45b8-bcc9-f0641ffb08c2",
   "metadata": {},
   "source": [
    "# Two-player battle version.<br>深蹲：雙人對戰版"
   ]
  },
  {
   "cell_type": "code",
   "execution_count": 2,
   "id": "9ab72c88-29a7-45b4-acca-fcf657d442ab",
   "metadata": {},
   "outputs": [],
   "source": [
    "%run coral_common.ipynb"
   ]
  },
  {
   "cell_type": "code",
   "execution_count": 3,
   "id": "b8d7a184-7284-41e8-9153-ef8270fab29a",
   "metadata": {},
   "outputs": [
    {
     "data": {
      "application/vnd.jupyter.widget-view+json": {
       "model_id": "f9820002ed2b4a798d58e6f2807a7363",
       "version_major": 2,
       "version_minor": 0
      },
      "text/plain": [
       "ToggleButton(value=False, button_style='danger', description='Stop', icon='square', tooltip='Description')"
      ]
     },
     "metadata": {},
     "output_type": "display_data"
    },
    {
     "data": {
      "text/plain": [
       "None"
      ]
     },
     "metadata": {},
     "output_type": "display_data"
    }
   ],
   "source": [
    "repetition1 = squat1 = squatting1 = repetition2 = squat2 = squatting2 = 0\n",
    "CONSECUTIVE_TH=3\n",
    "def frame_process(frame):    \n",
    "    global repetition1, squat1, squatting1, repetition2, squat2, squatting2\n",
    "    \n",
    "    frame_height, frame_width = frame.shape[:2]\n",
    "    frame1 = (frame.transpose((1, 0, 2))[:frame_width//2]).transpose((1, 0, 2))\n",
    "    frame2 = (frame.transpose((1, 0, 2))[frame_width//2:]).transpose((1, 0, 2))\n",
    "    \n",
    "    # calculate and display angle\n",
    "    keypoints_with_scores1 = get_result_from_image_with_model(frame1, interpreter)\n",
    "    keypoints_with_scores2 = get_result_from_image_with_model(frame2, interpreter)\n",
    "    \n",
    "    hip_angle1 = calculate_hip_joint_angle(keypoints_with_scores1)\n",
    "    knee_angle1 = calculate_knee_joint_angle(keypoints_with_scores1)\n",
    "    hip_angle2 = calculate_hip_joint_angle(keypoints_with_scores2)\n",
    "    knee_angle2 = calculate_knee_joint_angle(keypoints_with_scores2)\n",
    "\n",
    "    # check if confidence is qualified, if yes, proceed to judgement\n",
    "    if hip_angle1 is not None and knee_angle1 is not None:\n",
    "        # if capture continuous CONSECUTIVE_TH angles in squatting, change squat to 1\n",
    "        # if capture continuous CONSECUTIVE_TH angles in standing, change squat to 0 and repetition += 1\n",
    "        if hip_angle1<125 and knee_angle1<105:\n",
    "            if squat1 == 0:\n",
    "                squatting1 += 1\n",
    "            else:\n",
    "                squatting1 = CONSECUTIVE_TH\n",
    "        elif hip_angle1>145 and knee_angle1>125:\n",
    "            if squat1 == 1:\n",
    "                squatting1 -= 1\n",
    "            else:\n",
    "                squatting1 = 0\n",
    "        if squatting1 == 0 and squat1 == 1:\n",
    "            repetition1 += 1\n",
    "            squat1 = 0\n",
    "        elif squatting1 == CONSECUTIVE_TH and squat1 == 0:\n",
    "            squat1 = 1\n",
    "        if squat1:\n",
    "            text_color1 = (0,255,0)\n",
    "            text1 = f\"=  Reps: {repetition1}   \"\n",
    "        else:\n",
    "            text_color1 = (64,240,160)\n",
    "            text1 = f\"+  Reps: {repetition1}   \"\n",
    "    else:\n",
    "        # +=1 or -=1 the value of squatting based on current status, clamped within [0, CONSECUTIVE_TH]\n",
    "        squatting1 = min(max((squatting1-1 if squat1 == 0 else squatting1+1), 0), CONSECUTIVE_TH)\n",
    "        text1 = f\"?  Reps: {repetition1}   \"\n",
    "        text_color1 = (128,128,128)\n",
    "    frame1 = cv2.resize(frame1, (int(200/frame_height*frame_width), 400))\n",
    "    putText(frame1, text1, text_color1)\n",
    "\n",
    "    if hip_angle2 is not None and knee_angle2 is not None:\n",
    "        # if capture continuous CONSECUTIVE_TH angles in squatting, change squat to 1\n",
    "        # if capture continuous CONSECUTIVE_TH angles in standing, change squat to 0 and repetition += 1\n",
    "        if hip_angle2<125 and knee_angle2<105:\n",
    "            if squat2 == 0:\n",
    "                squatting2 += 1\n",
    "            else:\n",
    "                squatting2 = CONSECUTIVE_TH\n",
    "        elif hip_angle2>145 and knee_angle2>125:\n",
    "            if squat2 == 1:\n",
    "                squatting2 -= 1\n",
    "            else:\n",
    "                squatting2 = 0\n",
    "        if squatting2 == 0 and squat2 == 1:\n",
    "            repetition2 += 1\n",
    "            squat2 = 0\n",
    "        elif squatting2 == CONSECUTIVE_TH and squat2 == 0:\n",
    "            squat2 = 1\n",
    "        if squat2:\n",
    "            text_color2 = (0,255,0)\n",
    "            text2 = f\"=  Reps: {repetition2}   \"\n",
    "        else:\n",
    "            text_color2 = (64,240,160)\n",
    "            text2 = f\"+  Reps: {repetition2}   \"\n",
    "    else:\n",
    "        # +=1 or -=1 the value of squatting based on current status, clamped within [0, CONSECUTIVE_TH]\n",
    "        squatting2 = min(max((squatting2-1 if squat2 == 0 else squatting2+1), 0), CONSECUTIVE_TH)\n",
    "        text2 = f\"?  Reps: {repetition2} \"\n",
    "        text_color2 = (128,128,128)\n",
    "    \n",
    "    frame2 = cv2.resize(frame2, (int(200/frame_height*frame_width), 400))\n",
    "    putText(frame2, text2, text_color2)\n",
    "\n",
    "    frame = np.concatenate((frame1, np.zeros((400, 10 ,3 )) , frame2  ) , axis=1)\n",
    "    \n",
    "    putText(frame, f\"Time: {int(time.time() - start_time)}s  FPS: \"\n",
    "        f\"{int(1/(sum(time_process[-5:])/len(time_process[-5:]))) if time_process else 'N/A'}\",\n",
    "        (160,224,160) , text_position=(50, 20))\n",
    "    \n",
    "    return frame\n",
    "\n",
    "\n",
    "    \n",
    "# Run\n",
    "\n",
    "display(stopButton)\n",
    "thread = threading.Thread(target=view, args=(stopButton, 0, 1, frame_process))\n",
    "thread.start()"
   ]
  },
  {
   "cell_type": "code",
   "execution_count": null,
   "id": "6f10b72c-e38d-481d-bc14-4548d852116b",
   "metadata": {},
   "outputs": [],
   "source": []
  }
 ],
 "metadata": {
  "kernelspec": {
   "display_name": "Python 3 (ipykernel)",
   "language": "python",
   "name": "python3"
  },
  "language_info": {
   "codemirror_mode": {
    "name": "ipython",
    "version": 3
   },
   "file_extension": ".py",
   "mimetype": "text/x-python",
   "name": "python",
   "nbconvert_exporter": "python",
   "pygments_lexer": "ipython3",
   "version": "3.9.2"
  }
 },
 "nbformat": 4,
 "nbformat_minor": 5
}
