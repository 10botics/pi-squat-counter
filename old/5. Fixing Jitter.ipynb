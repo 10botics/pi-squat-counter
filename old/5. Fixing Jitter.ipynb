{
 "cells": [
  {
   "attachments": {},
   "cell_type": "markdown",
   "id": "6d9a3941-0e48-4dcb-93fd-f28598f63278",
   "metadata": {},
   "source": [
    "# Fixing Jitter"
   ]
  },
  {
   "cell_type": "markdown",
   "id": "c370bb4d-e131-40ec-b926-87e1001e0a77",
   "metadata": {},
   "source": [
    "## Output prone to shaking in **half-squat position**?\n",
    "\n",
    "Solution:\n",
    "- Separate the detection threshold for standing and squatting by a certain distance. Specifically, we set two detection thresholds separated by a certain distance.\n",
    "- Only when the angle is lower than the lower threshold, the status is set as \"squatting\"; only when the angle is higher than the higher threshold, the status is set as \"standing\".\n",
    "- This design can effectively filter out the result fluctuations caused by small-range fluctuations in the measurement value during the binarization process.\n",
    "\n",
    "![img6-3.png](resource/img6-3.png) "
   ]
  },
  {
   "cell_type": "markdown",
   "id": "66883fcf-1c98-47a2-a2c4-c687da9d8264",
   "metadata": {},
   "source": [
    "```python\n",
    "if hip_angle<125 and knee_angle<105:\n",
    "    squat = 1\n",
    "elif hip_angle>145 and knee_angle>125:\n",
    "    if squat == 1:\n",
    "        repetition += 1\n",
    "    squat = 0\n",
    "```"
   ]
  },
  {
   "cell_type": "markdown",
   "id": "50293ae1-89ce-4747-9291-6eac4a9e9b0b",
   "metadata": {},
   "source": [
    "## Meaningless title also determined the squatting status?"
   ]
  },
  {
   "cell_type": "markdown",
   "id": "f4063ed3-27db-417f-a159-a9aa85cdca2d",
   "metadata": {},
   "source": [
    "Solution:\n",
    "Do not let the squat counter count when MoveNet is not confident with the result."
   ]
  },
  {
   "cell_type": "markdown",
   "id": "410ec855-e929-4667-ad22-9fc21f8ab545",
   "metadata": {},
   "source": [
    "```python\n",
    "if (a1s>keypoint_threshold)*(b1s>keypoint_threshold)*(c1s>keypoint_threshold):\n",
    "        return (angle1 + angle2) / 2\n",
    "    else:\n",
    "        return None\n",
    "```"
   ]
  },
  {
   "cell_type": "markdown",
   "id": "9d251c1e-b4af-4de7-9ffd-274b05b0d0ae",
   "metadata": {},
   "source": [
    "```python\n",
    "if (hip_angle is not None) and (knee_angle is not None):\n",
    "    .........\n",
    "    text = f\"Reps: {repetition}  Knee: {int(knee_angle)}  Hip: {int(hip_angle)}\"\n",
    "else:\n",
    "    text = f\"Reps: {repetition}  Knee: ?  Hip: ?\"\n",
    "```"
   ]
  },
  {
   "cell_type": "markdown",
   "id": "52db5276-da89-4e18-8b33-3f5fa11644cf",
   "metadata": {},
   "source": [
    " ## Other possible sources that trigger jittering?"
   ]
  },
  {
   "cell_type": "markdown",
   "id": "4bd3f20a-b9dc-49cc-a42b-e747795fa1a9",
   "metadata": {},
   "source": [
    "Solution:\n",
    "\n",
    "- Avoid random interference (such as background, casual movements) through multiple \"measurements\".\n",
    "- Collect multiple image samples and only update the squatting status when several consecutive results indicate squatting (standing).\n"
   ]
  },
  {
   "cell_type": "markdown",
   "id": "735d9eeb-542d-4f12-a62c-c74de1ba953d",
   "metadata": {},
   "source": [
    "```python\n",
    "squatting = 0\n",
    "CONSECUTIVE_THRESHOLD = 3    # << You can change this!\n",
    "# squatting == 0: last consecutive 3 confident results from images are all standing\n",
    "# squatting == CONSECUTIVE_THRESHOLD: last consecutive 3 confident results from images are all squatting\n",
    "def frame_process(frame):\n",
    "    global repetition, squat, squatting\n",
    "    ..........\n",
    "    if hip_angle<125 and knee_angle<105:\n",
    "        # if MoveNet result is squatting\n",
    "        #   if current state is standing, squatting += 1\n",
    "        #   otherwise, reset squatting to CONSECUTIVE_TH\n",
    "        if squat == 0:\n",
    "            squatting += 1\n",
    "        else:\n",
    "            squatting = CONSECUTIVE_TH\n",
    "    elif hip_angle>145 and knee_angle>125:\n",
    "        # if MoveNet result is standing\n",
    "        #   if current state is squatting, squatting -= 1\n",
    "        #   otherwise, reset squatting to 0\n",
    "        if squat == 1:\n",
    "            squatting -= 1\n",
    "        else:\n",
    "            squatting = 0\n",
    "    if squatting == 0 and squat == 1:\n",
    "        repetition += 1\n",
    "        squat = 0\n",
    "    elif squatting == CONSECUTIVE_TH and squat == 0:\n",
    "        squat = 1\n",
    "    ...........\n",
    "```"
   ]
  },
  {
   "attachments": {},
   "cell_type": "markdown",
   "id": "be318ba6-0d01-4c1d-a979-6b848acb5ab5",
   "metadata": {},
   "source": [
    "## Final Version"
   ]
  },
  {
   "cell_type": "code",
   "execution_count": 10,
   "id": "ba94cfb7-4aed-4cb2-8906-cdab97275733",
   "metadata": {},
   "outputs": [
    {
     "name": "stdout",
     "output_type": "stream",
     "text": [
      "Libraries imported.\n",
      "\n",
      "The following functions have been imported:\n",
      "   movenet(input_image)\n",
      "   _keypoints_and_edges_for_display(keypoints_with_scores, height, width, keypoint_threshold=0.11)\n",
      "   draw_prediction_on_image(image, keypoints_with_scores, crop_region=None, close_figure=False, output_image_height=None)\n",
      "The following global variables have been assigned:\n",
      "   module, model_name, input_size, KEYPOINT_DICT, KEYPOINT_EDGE_INDS_TO_COLOR\n",
      "=======================================\n",
      "\n"
     ]
    }
   ],
   "source": [
    "%run Squat_common.ipynb"
   ]
  },
  {
   "cell_type": "code",
   "execution_count": 11,
   "id": "44e5746f-f07f-449e-9675-461938a28abc",
   "metadata": {},
   "outputs": [],
   "source": [
    "def calculate_angle(a,b,c):\n",
    "    a = np.array(a) # First\n",
    "    b = np.array(b) # Mid\n",
    "    c = np.array(c) # End\n",
    "    \n",
    "    radians = np.arctan2(c[1]-b[1], c[0]-b[0]) - np.arctan2(a[1]-b[1], a[0]-b[0])\n",
    "    angle = np.abs(radians*180.0/np.pi)\n",
    "    \n",
    "    if angle > 180.0:\n",
    "        angle = 360-angle\n",
    "        \n",
    "    return angle\n",
    "\n",
    "def calculate_hip_joint_angle(keypoints_with_scores, keypoint_threshold = 0.2): \n",
    "    keypoints_with_scores = keypoints_with_scores[0][0]\n",
    "    \n",
    "    # get the position of keypoints from MoveNet output\n",
    "    a1y, a1x, a1s = keypoints_with_scores[KEYPOINT_DICT[\"left_shoulder\"]]\n",
    "    a2y, a2x, a2s = keypoints_with_scores[KEYPOINT_DICT[\"right_shoulder\"]]\n",
    "    b1y, b1x, b1s = keypoints_with_scores[KEYPOINT_DICT[\"left_hip\"]]\n",
    "    b2y, b2x, b2s = keypoints_with_scores[KEYPOINT_DICT[\"right_hip\"]]\n",
    "    c1y, c1x, c1s = keypoints_with_scores[KEYPOINT_DICT[\"left_knee\"]]\n",
    "    c2y, c2x, c2s = keypoints_with_scores[KEYPOINT_DICT[\"right_knee\"]]\n",
    "\n",
    "    # calculate angle of left and right body respectively\n",
    "    angle1 = calculate_angle( (a1y, a1x), (b1y, b1x), (c1y, c1x) )\n",
    "    angle2 = calculate_angle( (a2y, a2x), (b2y, b2x), (c2y, c2x) )\n",
    "\n",
    "    # if confident score of keypoints are all above threshold, return the midpoint of two angle\n",
    "    # otherwise, return None\n",
    "    if (a1s>keypoint_threshold)*(b1s>keypoint_threshold)*(c1s>keypoint_threshold):\n",
    "        return (angle1 + angle2) / 2\n",
    "    else:\n",
    "        return None\n",
    "\n",
    "def calculate_knee_joint_angle(keypoints_with_scores, keypoint_threshold = 0.2): \n",
    "    keypoints_with_scores = keypoints_with_scores[0][0]\n",
    "\n",
    "    # get the position of keypoints from MoveNet output\n",
    "    a1y, a1x, a1s = keypoints_with_scores[KEYPOINT_DICT[\"left_hip\"]]\n",
    "    a2y, a2x, a2s = keypoints_with_scores[KEYPOINT_DICT[\"right_hip\"]]\n",
    "    b1y, b1x, b1s = keypoints_with_scores[KEYPOINT_DICT[\"left_knee\"]]\n",
    "    b2y, b2x, b2s = keypoints_with_scores[KEYPOINT_DICT[\"right_knee\"]]\n",
    "    c1y, c1x, c1s = keypoints_with_scores[KEYPOINT_DICT[\"left_ankle\"]]\n",
    "    c2y, c2x, c2s = keypoints_with_scores[KEYPOINT_DICT[\"right_ankle\"]]\n",
    "\n",
    "    # calculate angle of left and right body respectively\n",
    "    angle1 = calculate_angle( (a1y, a1x), (b1y, b1x), (c1y, c1x) )\n",
    "    angle2 = calculate_angle( (a2y, a2x), (b2y, b2x), (c2y, c2x) )\n",
    "\n",
    "    # if confident score of keypoints are all above threshold, return the midpoint of two angle\n",
    "    # otherwise, return None\n",
    "    if (a1s>keypoint_threshold)*(b1s>keypoint_threshold)*(c1s>keypoint_threshold):\n",
    "        return (angle1 + angle2) / 2\n",
    "    else:\n",
    "        return None\n"
   ]
  },
  {
   "cell_type": "code",
   "execution_count": 12,
   "id": "70ba0e70-b27b-48a4-9898-9a0bea55b378",
   "metadata": {},
   "outputs": [
    {
     "data": {
      "application/vnd.jupyter.widget-view+json": {
       "model_id": "6d51f3ee7f00461983e2fc4a8368e99a",
       "version_major": 2,
       "version_minor": 0
      },
      "text/plain": [
       "ToggleButton(value=False, button_style='danger', description='Stop', icon='square', tooltip='Description')"
      ]
     },
     "metadata": {},
     "output_type": "display_data"
    },
    {
     "data": {
      "text/plain": [
       "None"
      ]
     },
     "metadata": {},
     "output_type": "display_data"
    }
   ],
   "source": [
    "\n",
    "def putText(frame, text, color = (0, 255, 0)):\n",
    "    # Define the text properties\n",
    "    font = cv2.FONT_HERSHEY_SIMPLEX\n",
    "    text_position = (50, 50)\n",
    "    text_scale = 0.65\n",
    "    text_color = color\n",
    "    text_thickness = 2\n",
    "\n",
    "    # Add text annotation on the frame\n",
    "    cv2.putText(frame, text, text_position, font, text_scale, text_color, text_thickness)\n",
    "\n",
    "repetition = 0\n",
    "squat = 0\n",
    "squatting = 0\n",
    "CONSECUTIVE_TH = 3    # << You can change this!\n",
    "def frame_process(frame):\n",
    "    global repetition, squat, squatting\n",
    "    # calculate and display angle\n",
    "    keypoints_with_scores = get_keypoints_with_scores_from_image_with_movenet(frame,input_size,input_size)\n",
    "    hip_angle = calculate_hip_joint_angle(keypoints_with_scores)\n",
    "    knee_angle = calculate_knee_joint_angle(keypoints_with_scores)\n",
    "\n",
    "\n",
    "    # check if confidence is qualified, if yes, proceed to judgement\n",
    "    if hip_angle is not None and knee_angle is not None:\n",
    "        # if capture continuous CONSECUTIVE_TH angles in squatting, change squat to 1\n",
    "        # if capture continuous CONSECUTIVE_TH angles in standing, change squat to 0 and repetition += 1\n",
    "        if hip_angle<125 and knee_angle<105:\n",
    "            if squat == 0:\n",
    "                squatting += 1\n",
    "            else:\n",
    "                squatting = CONSECUTIVE_TH\n",
    "        elif hip_angle>145 and knee_angle>125:\n",
    "            if squat == 1:\n",
    "                squatting -= 1\n",
    "            else:\n",
    "                squatting = 0\n",
    "        if squatting == 0 and squat == 1:\n",
    "            repetition += 1\n",
    "            squat = 0\n",
    "        elif squatting == CONSECUTIVE_TH and squat == 0:\n",
    "            squat = 1\n",
    "        text = f\"Reps: {repetition}  Knee: {int(knee_angle)}  Hip: {int(hip_angle)}\"\n",
    "    else:\n",
    "        text = f\"Reps: {repetition}  Knee: ?  Hip: ?\"\n",
    "    if squat:\n",
    "        text_color = (0,255,0)\n",
    "    else:\n",
    "        text_color = (128,192,64)\n",
    "\n",
    "    # draw visualized prediction from MoveNet on the frame. Attention: Not recommended, VERY LAGGY!\n",
    "    #frame = draw_prediction_on_image( tf_image_to_model(frame,600,600)[0]/255, keypoints_with_scores)\n",
    "    \n",
    "    \n",
    "    putText(frame, text, text_color)\n",
    "\n",
    "    return frame\n",
    "\n",
    "\n",
    "# Run\n",
    "# ================\n",
    "if __name__ == \"__main__\":\n",
    "    display(stopButton)\n",
    "    thread = threading.Thread(target=view, args=(stopButton, 0, 1, frame_process))\n",
    "    thread.start()\n",
    "\n"
   ]
  }
 ],
 "metadata": {
  "kernelspec": {
   "display_name": "Python 3 (ipykernel)",
   "language": "python",
   "name": "python3"
  },
  "language_info": {
   "codemirror_mode": {
    "name": "ipython",
    "version": 3
   },
   "file_extension": ".py",
   "mimetype": "text/x-python",
   "name": "python",
   "nbconvert_exporter": "python",
   "pygments_lexer": "ipython3",
   "version": "3.9.2"
  }
 },
 "nbformat": 4,
 "nbformat_minor": 5
}
